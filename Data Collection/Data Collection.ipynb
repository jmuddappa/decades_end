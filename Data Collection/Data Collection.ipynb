{
 "cells": [
  {
   "cell_type": "markdown",
   "metadata": {},
   "source": [
    "<h2><u>Situation </u></h2>\n",
    "\n",
    "It's the end of the decade. This means we get a buttload of top \"X\" of the decade! I love movies and I wanted to see what movies I may have missed out over the last decade so I decided to scrape all the top movies of the decade lists that I could get my hands on. After creating this list, I want to:\n",
    "\n",
    "1. Analyze the database for interesting trends \n",
    "2. Create a TOP top list of the decade using all the lists\n",
    "3. Deploy a reccomender system that would suggest movies from this top movie list.\n",
    "\n",
    "<h2><u> Task </u></h2>\n",
    "\n",
    "The first thing I had to get done was data collection and that's what this notebook is all about.\n",
    "\n",
    "<h2><u> Action </u></h2>\n",
    "\n",
    "I defined a couple of functions that can scrape a website given a link and the html tag of the element you want to scrape. I then wrote a few more functions over the course of scraping 35 websites that would clean the list of movies as required. After each successful scrape I manually added them to a CSV file and did any additionally cleanup of the data if required."
   ]
  },
  {
   "cell_type": "code",
   "execution_count": 527,
   "metadata": {
    "ExecuteTime": {
     "end_time": "2019-12-24T18:48:10.409745Z",
     "start_time": "2019-12-24T18:48:10.332373Z"
    },
    "collapsed": true
   },
   "outputs": [],
   "source": [
    "import requests\n",
    "from scrapy.http import TextResponse\n",
    "from bs4 import BeautifulSoup\n",
    "\n",
    "\n",
    "#parses web link and returns matches found for given tag\n",
    "def parser(link, tag):\n",
    "    res = requests.get(link)\n",
    "    response = TextResponse(res.url, body=res.text, encoding='utf-8')\n",
    "    return response.css(tag).getall()\n",
    "    \n",
    "#function to remove html tags\n",
    "def remove_html(movies):\n",
    "    sol = []\n",
    "    for movie in movies:\n",
    "        s = BeautifulSoup(movie, \"lxml\").text\n",
    "        if re.search('[a-zA-Z]', s):\n",
    "            sol.append(s)\n",
    "    return sol\n",
    "\n",
    "#function to remove dates and special chars\n",
    "def remove_non_chars(movies):\n",
    "    regex = re.compile('[^a-z : - A-Z]')\n",
    "    for idx, movie in enumerate(movies):\n",
    "        movies[idx] = regex.sub('', movie)\n",
    "    return movies\n",
    "\n",
    "#function to find movie titles using regex in the more stubborn to parse websites\n",
    "def find_movies(movies, expr):\n",
    "    res = []\n",
    "    for title in movies:\n",
    "        f = re.search(expr, title)\n",
    "        if f: #if a movie title is found\n",
    "            res.append(f.group(1))\n",
    "    return res\n"
   ]
  },
  {
   "cell_type": "markdown",
   "metadata": {},
   "source": [
    "<h2> No Film School </h2>"
   ]
  },
  {
   "cell_type": "code",
   "execution_count": 308,
   "metadata": {
    "ExecuteTime": {
     "end_time": "2019-12-24T17:10:46.128952Z",
     "start_time": "2019-12-24T17:10:45.860674Z"
    }
   },
   "outputs": [
    {
     "data": {
      "text/plain": [
       "['<strong>Honorable Mentions</strong>',\n",
       " '<strong><em>Bridesmaids</em>,\\xa0<em>Frozen</em>,\\xa0<em>Gone Girl, Birdman</em>,\\xa0<em>Manchester by the Sea</em>,\\xa0<em>The Master</em>, <em>12 Years a Slave</em>,\\xa0<em>Nightcrawler</em>,\\xa0<em>Black Swan</em>,\\xa0<em>Lady Bird</em>,\\xa0<em>Before Midnight</em>,\\xa0<em>It Follows</em>, <em>The Avengers,\\xa0</em><em>Guardians of the</em>\\xa0<em>Galaxy</em>,\\xa0<em>Thor: Ragnarok</em>,\\xa0<em>The Post</em>, <em>Spider-Man: Into the Spider-Verse</em>,\\xa0<em>A Star Is Born</em>, <em>Mission: Impossible - Fallout</em>,\\xa0<em>Brooklyn</em>,\\xa0<em>Avengers: Endgame</em>, <em>Once Upon a Time In Hollywood</em>,\\xa0<em>Jojo Rabbit,\\xa0</em>and <em>Zero Dark Thirty</em>.</strong>',\n",
       " 'Bridesmaids',\n",
       " 'Frozen',\n",
       " 'Gone Girl, Birdman',\n",
       " 'Manchester by the Sea',\n",
       " 'The Master',\n",
       " '12 Years a Slave',\n",
       " 'Nightcrawler',\n",
       " 'Black Swan',\n",
       " 'Lady Bird',\n",
       " 'Before Midnight',\n",
       " 'It Follows',\n",
       " 'The Avengers,\\xa0',\n",
       " 'Guardians of the',\n",
       " 'Galaxy',\n",
       " 'Thor: Ragnarok',\n",
       " 'The Post',\n",
       " 'Spider-Man: Into the Spider-Verse',\n",
       " 'A Star Is Born',\n",
       " 'Mission: Impossible - Fallout',\n",
       " 'Brooklyn',\n",
       " 'Avengers: Endgame',\n",
       " 'Once Upon a Time In Hollywood',\n",
       " 'Jojo Rabbit,\\xa0',\n",
       " 'Zero Dark Thirty',\n",
       " '<strong><span id=\"docs-internal-guid-3f7fa7ee-7fff-ad99-f999-20b3e8547765\"><em>Get Out</em> (2017)\\xa0</span></strong>',\n",
       " 'Get Out',\n",
       " '<strong><em>The Tree of Life</em></strong>',\n",
       " 'The Tree of Life',\n",
       " '<strong>(2011)</strong>',\n",
       " '<strong><em>Spotlight\\xa0</em>(2015)</strong>',\n",
       " 'Spotlight\\xa0',\n",
       " '<strong><em>Stories We Tell</em> (2013)</strong>',\n",
       " 'Stories We Tell',\n",
       " '<strong><em>Mad Max: Fury Road</em>\\xa0(2015)</strong>',\n",
       " 'Mad Max: Fury Road',\n",
       " '<strong>Hereditary\\xa0</strong>',\n",
       " '<strong><em>Paddington 2</em></strong>',\n",
       " 'Paddington 2',\n",
       " '<strong>(2017)</strong>',\n",
       " '<strong><em>Moneyball\\xa0</em>(2011)</strong>',\n",
       " 'Moneyball\\xa0',\n",
       " '<strong>Black Panther</strong>',\n",
       " '<strong>\\xa0(2018)</strong>',\n",
       " '<strong><span id=\"docs-internal-guid-3f7fa7ee-7fff-ad99-f999-20b3e8547765\">Madeline\\'s Madeline (2018)</span></strong>',\n",
       " '<strong><em>Citizen Four </em>(2014)</strong>',\n",
       " 'Citizen Four ',\n",
       " '<strong><em>Boyhood</em></strong>',\n",
       " 'Boyhood',\n",
       " '<strong>(2014)</strong>',\n",
       " '<strong><em>The Wolf of Wall Street</em></strong>',\n",
       " 'The Wolf of Wall Street',\n",
       " '<strong>(2013)</strong>',\n",
       " '<strong><em>Tangerine</em>\\xa0(2015)</strong>',\n",
       " 'Tangerine',\n",
       " '<strong><em>Francis Ha</em>\\xa0(2012)</strong>',\n",
       " 'Francis Ha',\n",
       " '<strong><em>Ex Machina\\xa0</em>(2015)</strong>',\n",
       " 'Ex Machina\\xa0',\n",
       " '<strong><em>Spring Breakers</em></strong>',\n",
       " 'Spring Breakers',\n",
       " '<strong>(2012)</strong>',\n",
       " '<strong>Her</strong>',\n",
       " '<strong>(2013)</strong>',\n",
       " '<strong><em>Moonlight\\xa0</em>(2016)</strong>',\n",
       " 'Moonlight\\xa0',\n",
       " '<strong><em>Parasite</em>\\xa0(2019)</strong>',\n",
       " 'Parasite',\n",
       " '<strong><span id=\"docs-internal-guid-3f7fa7ee-7fff-ad99-f999-20b3e8547765\"><em>Melancholia</em> (2011)</span></strong>',\n",
       " 'Melancholia',\n",
       " '<strong><em>Inside Out</em></strong>',\n",
       " 'Inside Out',\n",
       " '<strong>(2015)</strong>',\n",
       " '<strong><em>Thunder Road</em></strong>',\n",
       " 'Thunder Road',\n",
       " '<strong>(2018)</strong>',\n",
       " '<strong><em>Swiss Army Man</em></strong>',\n",
       " 'Swiss Army Man',\n",
       " '<strong>(2016)</strong>',\n",
       " '<strong><em>1917</em>\\xa0(2019)\\xa0</strong>',\n",
       " '1917',\n",
       " '<strong><span><span><em>The Art of Killing\\xa0</em>(2012)</span></span></strong>',\n",
       " 'The Art of Killing\\xa0',\n",
       " '<strong>Cameraperson\\xa0</strong>',\n",
       " '<strong>(2016)</strong>',\n",
       " '<strong><span id=\"docs-internal-guid-3f7fa7ee-7fff-ad99-f999-20b3e8547765\"><em>The Revenant</em> (2015)</span></strong>',\n",
       " 'The Revenant',\n",
       " '<strong><em>Inception</em></strong>',\n",
       " 'Inception',\n",
       " '<strong>(2010)</strong>',\n",
       " '<strong><em>Roma</em> (2018)</strong>',\n",
       " 'Roma',\n",
       " '<strong><em>Foxtrot</em></strong>',\n",
       " 'Foxtrot',\n",
       " '<strong>(2017)</strong>',\n",
       " '<strong><em>Django Unchained</em></strong>',\n",
       " 'Django Unchained',\n",
       " '<strong>(2012)</strong>',\n",
       " '<strong>Inside Llewyn Davis</strong>',\n",
       " '<strong>\\xa0(2013)</strong>',\n",
       " '<strong><em>Drive</em>\\xa0(2011)</strong>',\n",
       " 'Drive',\n",
       " '<strong><em>Skyfall</em></strong>',\n",
       " 'Skyfall',\n",
       " '<strong>(2012)</strong>',\n",
       " '<strong><em>The Social Network</em> (2010)</strong>',\n",
       " 'The Social Network',\n",
       " '<strong><span id=\"docs-internal-guid-3f7fa7ee-7fff-ad99-f999-20b3e8547765\"><em>Moana</em>\\xa0(2016)</span></strong>',\n",
       " 'Moana',\n",
       " '<strong><em>The Witch\\xa0</em>(2015)</strong>',\n",
       " 'The Witch\\xa0']"
      ]
     },
     "execution_count": 308,
     "metadata": {},
     "output_type": "execute_result"
    }
   ],
   "source": [
    "link = \"https://nofilmschool.com/best-movies-of-the-decade\"\n",
    "tag = 'strong, strong em::text'\n",
    "movies = parser(link, tag)\n",
    "movies"
   ]
  },
  {
   "cell_type": "code",
   "execution_count": 311,
   "metadata": {
    "ExecuteTime": {
     "end_time": "2019-12-24T17:10:51.862676Z",
     "start_time": "2019-12-24T17:10:51.856432Z"
    },
    "collapsed": true
   },
   "outputs": [],
   "source": [
    "import re\n",
    "sol = []\n",
    "for title in movies:\n",
    "    if re.match('<strong>', title):\n",
    "        sol.append(title)"
   ]
  },
  {
   "cell_type": "code",
   "execution_count": 312,
   "metadata": {
    "ExecuteTime": {
     "end_time": "2019-12-24T17:10:52.695682Z",
     "start_time": "2019-12-24T17:10:52.640420Z"
    }
   },
   "outputs": [
    {
     "name": "stdout",
     "output_type": "stream",
     "text": [
      "<strong>Honorable Mentions</strong>\n",
      "<strong><em>Bridesmaids</em>, <em>Frozen</em>, <em>Gone Girl, Birdman</em>, <em>Manchester by the Sea</em>, <em>The Master</em>, <em>12 Years a Slave</em>, <em>Nightcrawler</em>, <em>Black Swan</em>, <em>Lady Bird</em>, <em>Before Midnight</em>, <em>It Follows</em>, <em>The Avengers, </em><em>Guardians of the</em> <em>Galaxy</em>, <em>Thor: Ragnarok</em>, <em>The Post</em>, <em>Spider-Man: Into the Spider-Verse</em>, <em>A Star Is Born</em>, <em>Mission: Impossible - Fallout</em>, <em>Brooklyn</em>, <em>Avengers: Endgame</em>, <em>Once Upon a Time In Hollywood</em>, <em>Jojo Rabbit, </em>and <em>Zero Dark Thirty</em>.</strong>\n",
      "<strong><span id=\"docs-internal-guid-3f7fa7ee-7fff-ad99-f999-20b3e8547765\"><em>Get Out</em> (2017) </span></strong>\n",
      "<strong><em>The Tree of Life</em></strong>\n",
      "<strong>(2011)</strong>\n",
      "<strong><em>Spotlight </em>(2015)</strong>\n",
      "<strong><em>Stories We Tell</em> (2013)</strong>\n",
      "<strong><em>Mad Max: Fury Road</em> (2015)</strong>\n",
      "<strong>Hereditary </strong>\n",
      "<strong><em>Paddington 2</em></strong>\n",
      "<strong>(2017)</strong>\n",
      "<strong><em>Moneyball </em>(2011)</strong>\n",
      "<strong>Black Panther</strong>\n",
      "<strong> (2018)</strong>\n",
      "<strong><span id=\"docs-internal-guid-3f7fa7ee-7fff-ad99-f999-20b3e8547765\">Madeline's Madeline (2018)</span></strong>\n",
      "<strong><em>Citizen Four </em>(2014)</strong>\n",
      "<strong><em>Boyhood</em></strong>\n",
      "<strong>(2014)</strong>\n",
      "<strong><em>The Wolf of Wall Street</em></strong>\n",
      "<strong>(2013)</strong>\n",
      "<strong><em>Tangerine</em> (2015)</strong>\n",
      "<strong><em>Francis Ha</em> (2012)</strong>\n",
      "<strong><em>Ex Machina </em>(2015)</strong>\n",
      "<strong><em>Spring Breakers</em></strong>\n",
      "<strong>(2012)</strong>\n",
      "<strong>Her</strong>\n",
      "<strong>(2013)</strong>\n",
      "<strong><em>Moonlight </em>(2016)</strong>\n",
      "<strong><em>Parasite</em> (2019)</strong>\n",
      "<strong><span id=\"docs-internal-guid-3f7fa7ee-7fff-ad99-f999-20b3e8547765\"><em>Melancholia</em> (2011)</span></strong>\n",
      "<strong><em>Inside Out</em></strong>\n",
      "<strong>(2015)</strong>\n",
      "<strong><em>Thunder Road</em></strong>\n",
      "<strong>(2018)</strong>\n",
      "<strong><em>Swiss Army Man</em></strong>\n",
      "<strong>(2016)</strong>\n",
      "<strong><em>1917</em> (2019) </strong>\n",
      "<strong><span><span><em>The Art of Killing </em>(2012)</span></span></strong>\n",
      "<strong>Cameraperson </strong>\n",
      "<strong>(2016)</strong>\n",
      "<strong><span id=\"docs-internal-guid-3f7fa7ee-7fff-ad99-f999-20b3e8547765\"><em>The Revenant</em> (2015)</span></strong>\n",
      "<strong><em>Inception</em></strong>\n",
      "<strong>(2010)</strong>\n",
      "<strong><em>Roma</em> (2018)</strong>\n",
      "<strong><em>Foxtrot</em></strong>\n",
      "<strong>(2017)</strong>\n",
      "<strong><em>Django Unchained</em></strong>\n",
      "<strong>(2012)</strong>\n",
      "<strong>Inside Llewyn Davis</strong>\n",
      "<strong> (2013)</strong>\n",
      "<strong><em>Drive</em> (2011)</strong>\n",
      "<strong><em>Skyfall</em></strong>\n",
      "<strong>(2012)</strong>\n",
      "<strong><em>The Social Network</em> (2010)</strong>\n",
      "<strong><span id=\"docs-internal-guid-3f7fa7ee-7fff-ad99-f999-20b3e8547765\"><em>Moana</em> (2016)</span></strong>\n",
      "<strong><em>The Witch </em>(2015)</strong>\n"
     ]
    }
   ],
   "source": [
    "for title in sol:\n",
    "    if re.match('<strong>', title):\n",
    "        print(title)"
   ]
  },
  {
   "cell_type": "code",
   "execution_count": 319,
   "metadata": {
    "ExecuteTime": {
     "end_time": "2019-12-24T17:12:54.122606Z",
     "start_time": "2019-12-24T17:12:54.081439Z"
    }
   },
   "outputs": [
    {
     "data": {
      "text/plain": [
       "['Get Out ',\n",
       " 'The Tree of Life',\n",
       " 'Spotlight',\n",
       " 'Stories We Tell ',\n",
       " 'Mad Max: Fury Road',\n",
       " 'Hereditary',\n",
       " 'Paddington ',\n",
       " 'Moneyball',\n",
       " 'Black Panther',\n",
       " 'Madelines Madeline ',\n",
       " 'Citizen Four ',\n",
       " 'Boyhood',\n",
       " 'The Wolf of Wall Street',\n",
       " 'Tangerine',\n",
       " 'Francis Ha',\n",
       " 'Ex Machina',\n",
       " 'Spring Breakers',\n",
       " 'Her',\n",
       " 'Moonlight',\n",
       " 'Parasite',\n",
       " 'Melancholia ',\n",
       " 'Inside Out',\n",
       " 'Thunder Road',\n",
       " 'Swiss Army Man',\n",
       " 'The Art of Killing',\n",
       " 'Cameraperson',\n",
       " 'The Revenant ',\n",
       " 'Inception',\n",
       " 'Roma ',\n",
       " 'Foxtrot',\n",
       " 'Django Unchained',\n",
       " 'Inside Llewyn Davis',\n",
       " 'Drive',\n",
       " 'Skyfall',\n",
       " 'The Social Network ',\n",
       " 'Moana',\n",
       " 'The Witch']"
      ]
     },
     "execution_count": 319,
     "metadata": {},
     "output_type": "execute_result"
    }
   ],
   "source": [
    "remove_non_chars(remove_html(sol))[2:]"
   ]
  },
  {
   "cell_type": "markdown",
   "metadata": {},
   "source": [
    "<h2> Insider </h2>"
   ]
  },
  {
   "cell_type": "code",
   "execution_count": 320,
   "metadata": {
    "ExecuteTime": {
     "end_time": "2019-12-24T17:13:07.013825Z",
     "start_time": "2019-12-24T17:13:06.631131Z"
    }
   },
   "outputs": [
    {
     "data": {
      "text/plain": [
       "['<h2 class=\"slide-title-text\">100. \"Nocturnal Animals\" (Director: Tom Ford, 2016)</h2>',\n",
       " '<h2 class=\"slide-title-text\">99. \"Free Solo\" (Directors: Jimmy Chin and Elizabeth Chai Vasarhelyi, 2018)</h2>',\n",
       " '<h2 class=\"slide-title-text\">98. \"Creed\" (Director: Ryan Coogler, 2015)</h2>',\n",
       " '<h2 class=\"slide-title-text\">97. \"Deadpool\" (Director: Tim Miller, 2016)</h2>',\n",
       " '<h2 class=\"slide-title-text\">96. \"Interstellar\" (Director: Christopher Nolan, 2014)</h2>',\n",
       " '<h2 class=\"slide-title-text\">95. \"Take Shelter\" (Director: Jeff Nichols, 2011)</h2>',\n",
       " '<h2 class=\"slide-title-text\">94. \"Guardians of the Galaxy\" (Director: James Gunn, 2014)</h2>',\n",
       " '<h2 class=\"slide-title-text\">93. \"Django Unchained\" (Director: Quentin Tarantino, 2012)</h2>',\n",
       " '<h2 class=\"slide-title-text\">92. \"Phoenix\" (Director: Christian Petzold, 2014)</h2>',\n",
       " '<h2 class=\"slide-title-text\">91. \"The Revenant\" (Director: Alejandro González Iñárritu, 2016)</h2>',\n",
       " '<h2 class=\"slide-title-text\">90. \"Booksmart\" (Director: Olivia Wilde, 2019)</h2>',\n",
       " '<h2 class=\"slide-title-text\">89. \"Scott Pilgrim vs. the World\" (Director: Edgar Wright, 2010)</h2>',\n",
       " '<h2 class=\"slide-title-text\">88. \"John Wick\" (Director: Chad Stahelski, 2014)</h2>',\n",
       " '<h2 class=\"slide-title-text\">87. \"Gravity\" (Director: Alfonso Cuarón, 2013)</h2>',\n",
       " '<h2 class=\"slide-title-text\">\"Zero Dark Thirty\" (Director: Kathryn Bigelow, 2012)</h2>',\n",
       " '<h2 class=\"slide-title-text\">85. \"The Conjuring\" (Director: James Wan, 2013)</h2>',\n",
       " '<h2 class=\"slide-title-text\">84. \"Your Name\" (Director: Makoto Shinkai, 2016)</h2>',\n",
       " '<h2 class=\"slide-title-text\">83. \"What We Do in the Shadows\" (Directors: Taika Waititi and Jemaine Clement, 2014)</h2>',\n",
       " '<h2 class=\"slide-title-text\">82. \"Snowpiercer\" (Director: Bong Joon-ho, 2013)</h2>',\n",
       " '<h2 class=\"slide-title-text\">81. \"Spring Breakers\" (Director: Harmony Korine, 2012)</h2>',\n",
       " '<h2 class=\"slide-title-text\">80. \"Room\" (Director: Lenny Abrahamson, 2015)</h2>',\n",
       " '<h2 class=\"slide-title-text\">79. \"Skyfall\" (Director: Sam Mendes, 2012)</h2>',\n",
       " '<h2 class=\"slide-title-text\">78. \"Toy Story 3\" (Director: Lee Unkrich, 2010)</h2>',\n",
       " '<h2 class=\"slide-title-text\">77 . \"The Farewell\" (Director: Lulu Wang, 2019)</h2>',\n",
       " '<h2 class=\"slide-title-text\">76. \"Train to Busan\" (Director: Yeon Sang-ho, 2016)</h2>',\n",
       " '<h2 class=\"slide-title-text\">75. \"Coco\" (Director: Lee Unkrich and Adrian Molina, 2017)</h2>',\n",
       " '<h2 class=\"slide-title-text\">74. \"Sing Street\" (Director: John Carney, 2016)</h2>',\n",
       " '<h2 class=\"slide-title-text\">73. \"Avengers: Endgame\" (Directors: Anthony Russo and Joe Russo, 2019)</h2>',\n",
       " '<h2 class=\"slide-title-text\">72. \"The Babadook\"\\xa0 (Director: Jennifer Kent, 2014)</h2>',\n",
       " '<h2 class=\"slide-title-text\">71. \"Selma\" (Director: Ava DuVernay, 2014)</h2>',\n",
       " '<h2 class=\"slide-title-text\">70. \"Amour\" (Director: Michael Haneke, 2012)</h2>',\n",
       " '<h2 class=\"slide-title-text\">69. \"Shoplifters\" (Director: Hirokazu Koreeda, 2018)</h2>',\n",
       " '<h2 class=\"slide-title-text\">68. \"Sorry to Bother You\" (Director: Boots Riley, 2018)</h2>',\n",
       " '<h2 class=\"slide-title-text\">67. \"Logan\" (Director: James Mangold, 2017)</h2>',\n",
       " '<h2 class=\"slide-title-text\">66. \"Spotlight\" (Director: Tom McCarthy, 2015)</h2>',\n",
       " '<h2 class=\"slide-title-text\">65. \"The Favourite\" (Director: Yorgos Lanthimos, 2018)</h2>',\n",
       " '<h2 class=\"slide-title-text\">64. \"A Quiet Place\" (Director: John Krasinski, 2018)</h2>',\n",
       " '<h2 class=\"slide-title-text\">63. \"Bridesmaids\" (Director: Paul Feig, 2011)</h2>',\n",
       " '<h2 class=\"slide-title-text\">62. \"Prisoners\" (Director: Denis Villeneuve, 2013)</h2>',\n",
       " '<h2 class=\"slide-title-text\">61. \"The Great Beauty\" (Director: Paolo Sorrentino, 2013)</h2>',\n",
       " '<h2 class=\"slide-title-text\">60. \"A Separation\" (Director: Asghar Farhadi, 2011)</h2>',\n",
       " '<h2 class=\"slide-title-text\">59. \"Star Wars: The Last Jedi\" (Director: Rian Johnson, 2017)</h2>',\n",
       " '<h2 class=\"slide-title-text\">58. \"First Man\" (Director: Damien Chazelle, 2018)</h2>',\n",
       " '<h2 class=\"slide-title-text\">57. \"If Beale Street Could Talk\" (Director: Barry Jenkins, 2018)</h2>',\n",
       " '<h2 class=\"slide-title-text\">56. \"The Big Short\" (Director: Adam McKay, 2015)</h2>',\n",
       " '<h2 class=\"slide-title-text\">55. \"Tangerine\" (Director: Sean Baker, 2015)</h2>',\n",
       " '<h2 class=\"slide-title-text\">54. \"Minding the Gap\" (Director: Bing Liu, 2018)</h2>',\n",
       " '<h2 class=\"slide-title-text\">53. \"Upstream Color\" (Director: Shane Carruth, 2014)</h2>',\n",
       " '<h2 class=\"slide-title-text\">52. \"Short Term 12\" (Director: Destin Daniel Cretton, 2013)</h2>',\n",
       " '<h2 class=\"slide-title-text\">51. \"Carol\" (Director: Todd Haynes, 2015)</h2>',\n",
       " '<h2 class=\"slide-title-text\">50. \"A Star Is Born\" (Director: Bradley Cooper, 2018)</h2>',\n",
       " '<h2 class=\"slide-title-text\">49. \"The Shape of Water\" (Director: Guillermo del Toro, 2017)</h2>',\n",
       " '<h2 class=\"slide-title-text\">48. \"Burning\" (Director: Lee Chang-dong, 2018)</h2>',\n",
       " '<h2 class=\"slide-title-text\">47. \"Brooklyn\" (Director: John Crowley, 2015)</h2>',\n",
       " '<h2 class=\"slide-title-text\">46. \"Gone Girl\" (Director: David Fincher, 2014)</h2>',\n",
       " '<h2 class=\"slide-title-text\">45. \"12 Years a Slave\" (Director: Steve McQueen, 2013)</h2>',\n",
       " '<h2 class=\"slide-title-text\">44. \"Once Upon a Time...in Hollywood\" (Director: Quentin Tarantino, 2019)</h2>',\n",
       " '<h2 class=\"slide-title-text\">43. \"Inside Out\" (Directors: Pete Docter and Ronnie del Carmen, 2015)</h2>',\n",
       " '<h2 class=\"slide-title-text\">42. \"Before Midnight\" (Director: Richard Linklater, 2013)</h2>',\n",
       " '<h2 class=\"slide-title-text\">41. \"The Handmaiden\" (Director: Park Chan-wook, 2016)</h2>',\n",
       " '<h2 class=\"slide-title-text\">40. \"Good Time\" (Directors: Benny Safdie and Josh Safdie, 2017)</h2>',\n",
       " '<h2 class=\"slide-title-text\">39. \"Birdman\" (Director: Alejandro Gonzàlez Iñárritu, 2015)</h2>',\n",
       " '<h2 class=\"slide-title-text\">38. \"O.J.: Made in America\" (Director: Ezra Edelman, 2016)</h2>',\n",
       " '<h2 class=\"slide-title-text\">37. \"Blade Runner 2049\" (Director: Denis Villeneuve, 2017)</h2>',\n",
       " '<h2 class=\"slide-title-text\">36. \"Moonrise Kingdom\" (Director: Wes Anderson, 2012)</h2>',\n",
       " '<h2 class=\"slide-title-text\">#35. \"The Wolf of Wall Street\" (Director: Martin Scorsese, 2014)</h2>',\n",
       " '<h2 class=\"slide-title-text\">34. \"Black Panther\" (Director: Ryan Coogler, 2018)</h2>',\n",
       " '<h2 class=\"slide-title-text\">33. \"The Act of Killing\" (Director: Joshua Oppenheimer, 2012)</h2>',\n",
       " '<h2 class=\"slide-title-text\">32. \"La La Land\" (Director: Damien Chazelle, 2016)</h2>',\n",
       " '<h2 class=\"slide-title-text\">31. \"Phantom Thread\" (Director: Paul Thomas Anderson, 2018)</h2>',\n",
       " '<h2 class=\"slide-title-text\">30. \"Arrival\" (Director: Denis Villeneuve, 2016)</h2>',\n",
       " '<h2 class=\"slide-title-text\">29. \"Hereditary\" (Director: Ari Aster, 2018)</h2>',\n",
       " '<h2 class=\"slide-title-text\">28. \"Parasite\" (Director: Bong Joon-ho, 2019)</h2>',\n",
       " '<h2 class=\"slide-title-text\">27. \"Whiplash\" (Director: Damien Chazelle, 2014)</h2>',\n",
       " '<h2 class=\"slide-title-text\">26. \"Paddington 2\" (Director: Paul King, 2017)</h2>',\n",
       " '<h2 class=\"slide-title-text\">25. \"Ex Machina\" (Alex Garland, 2014)</h2>',\n",
       " '<h2 class=\"slide-title-text\"> 24. \"Inception\" (Director: Christopher Nolan, 2010) </h2>',\n",
       " '<h2 class=\"slide-title-text\">23. \"Drive\" (Director: Nicolas Winding Refn, 2011)</h2>',\n",
       " '<h2 class=\"slide-title-text\">22. \"Roma\" (Director: Alfonso Cuarón, 2018)</h2>',\n",
       " '<h2 class=\"slide-title-text\">21. \"Mother!\" (Director: Darren Aronofsky, 2017)</h2>',\n",
       " '<h2 class=\"slide-title-text\">20. \"The Grand Budapest Hotel\" (Director: Wes Anderson, 2016)</h2>',\n",
       " '<h2 class=\"slide-title-text\">19. \"First Reformed\" (Director: Paul Schrader, 2018)</h2>',\n",
       " '<h2 class=\"slide-title-text\">18.\\xa0\"Nightcrawler\" (Director: Dan Gilroy, 2014)</h2>',\n",
       " '<h2 class=\"slide-title-text\">17.\\xa0\"Dunkirk\" (Director: Christopher Nolan, 2017)</h2>',\n",
       " '<h2 class=\"slide-title-text\">16. \"Black Swan\" (Director: Darren Aronofsky, 2010)</h2>',\n",
       " '<h2 class=\"slide-title-text\">15. \"The Tree of Life\" (Director: Terrence Malick, 2011)</h2>',\n",
       " '<h2 class=\"slide-title-text\">14. \"Her\" (Director: Spike Jonze, 2013)</h2>',\n",
       " '<h2 class=\"slide-title-text\">13. \"Inside Llewyn Davis\" (Directors: Joel Cohen and Ethan Cohen, 2013)</h2>',\n",
       " '<h2 class=\"slide-title-text\">12. \"The Master\" (Director: Paul Thomas Anderson, 2012)</h2>',\n",
       " '<h2 class=\"slide-title-text\">11. \"Frances Ha\" (Director: Noah Baumbach, 2012)</h2>',\n",
       " '<h2 class=\"slide-title-text\">10. \"Call Me by Your Name\" (Director: Luca Guadagnino, 2017)</h2>',\n",
       " '<h2 class=\"slide-title-text\">9. \"Eighth Grade\" (Director: Bo Burnham, 2018)</h2>',\n",
       " '<h2 class=\"slide-title-text\">8. \"Spider-Man: Into the Spider-Verse\" (Directors: Peter Ramsey, Bob Persichetti, and Rodney Rothman 2018)</h2>',\n",
       " '<h2 class=\"slide-title-text\">7. \"The Florida Project\" (Director: Sean Baker, 2017)</h2>',\n",
       " '<h2 class=\"slide-title-text\">6. \"The Social Network\" (Director: David Fincher, 2010)</h2>',\n",
       " '<h2 class=\"slide-title-text\">5. \"Lady Bird\" (Director: Greta Gerwig, 2017)</h2>',\n",
       " '<h2 class=\"slide-title-text\">4. \"Mad Max: Fury Road\" (Director: George Miller, 2015)</h2>',\n",
       " '<h2 class=\"slide-title-text\">3. \"Boyhood\" (Director: Richard Linklater, 2014)</h2>',\n",
       " '<h2 class=\"slide-title-text\">2. \"Moonlight\" (Director: Barry Jenkins, 2016)</h2>',\n",
       " '<h2 class=\"slide-title-text\">1. \"Get Out\" (Director: Jordan Peele, 2017)</h2>']"
      ]
     },
     "execution_count": 320,
     "metadata": {},
     "output_type": "execute_result"
    }
   ],
   "source": [
    "link = \"https://www.insider.com/best-films-of-the-decade-2010-2019-11#1-get-out-director-jordan-peele-2017-100\"\n",
    "tag = '.slide-title-text'\n",
    "movies = parser(link, tag)\n",
    "movies"
   ]
  },
  {
   "cell_type": "code",
   "execution_count": 321,
   "metadata": {
    "ExecuteTime": {
     "end_time": "2019-12-24T17:13:09.901633Z",
     "start_time": "2019-12-24T17:13:09.893469Z"
    },
    "collapsed": true
   },
   "outputs": [],
   "source": [
    "#finds quoted movies\n",
    "for index, title in enumerate(movies):\n",
    "    movies[index] = re.findall('\"([^\"]*)\"',  title)"
   ]
  },
  {
   "cell_type": "code",
   "execution_count": 323,
   "metadata": {
    "ExecuteTime": {
     "end_time": "2019-12-24T17:13:14.433715Z",
     "start_time": "2019-12-24T17:13:14.426896Z"
    },
    "collapsed": true
   },
   "outputs": [],
   "source": [
    "sol = []\n",
    "for movie in movies:\n",
    "    sol.append(movie[1])"
   ]
  },
  {
   "cell_type": "code",
   "execution_count": 324,
   "metadata": {
    "ExecuteTime": {
     "end_time": "2019-12-24T17:13:15.055825Z",
     "start_time": "2019-12-24T17:13:15.033644Z"
    }
   },
   "outputs": [
    {
     "data": {
      "text/plain": [
       "['Nocturnal Animals',\n",
       " 'Free Solo',\n",
       " 'Creed',\n",
       " 'Deadpool',\n",
       " 'Interstellar',\n",
       " 'Take Shelter',\n",
       " 'Guardians of the Galaxy',\n",
       " 'Django Unchained',\n",
       " 'Phoenix',\n",
       " 'The Revenant',\n",
       " 'Booksmart',\n",
       " 'Scott Pilgrim vs. the World',\n",
       " 'John Wick',\n",
       " 'Gravity',\n",
       " 'Zero Dark Thirty',\n",
       " 'The Conjuring',\n",
       " 'Your Name',\n",
       " 'What We Do in the Shadows',\n",
       " 'Snowpiercer',\n",
       " 'Spring Breakers',\n",
       " 'Room',\n",
       " 'Skyfall',\n",
       " 'Toy Story 3',\n",
       " 'The Farewell',\n",
       " 'Train to Busan',\n",
       " 'Coco',\n",
       " 'Sing Street',\n",
       " 'Avengers: Endgame',\n",
       " 'The Babadook',\n",
       " 'Selma',\n",
       " 'Amour',\n",
       " 'Shoplifters',\n",
       " 'Sorry to Bother You',\n",
       " 'Logan',\n",
       " 'Spotlight',\n",
       " 'The Favourite',\n",
       " 'A Quiet Place',\n",
       " 'Bridesmaids',\n",
       " 'Prisoners',\n",
       " 'The Great Beauty',\n",
       " 'A Separation',\n",
       " 'Star Wars: The Last Jedi',\n",
       " 'First Man',\n",
       " 'If Beale Street Could Talk',\n",
       " 'The Big Short',\n",
       " 'Tangerine',\n",
       " 'Minding the Gap',\n",
       " 'Upstream Color',\n",
       " 'Short Term 12',\n",
       " 'Carol',\n",
       " 'A Star Is Born',\n",
       " 'The Shape of Water',\n",
       " 'Burning',\n",
       " 'Brooklyn',\n",
       " 'Gone Girl',\n",
       " '12 Years a Slave',\n",
       " 'Once Upon a Time...in Hollywood',\n",
       " 'Inside Out',\n",
       " 'Before Midnight',\n",
       " 'The Handmaiden',\n",
       " 'Good Time',\n",
       " 'Birdman',\n",
       " 'O.J.: Made in America',\n",
       " 'Blade Runner 2049',\n",
       " 'Moonrise Kingdom',\n",
       " 'The Wolf of Wall Street',\n",
       " 'Black Panther',\n",
       " 'The Act of Killing',\n",
       " 'La La Land',\n",
       " 'Phantom Thread',\n",
       " 'Arrival',\n",
       " 'Hereditary',\n",
       " 'Parasite',\n",
       " 'Whiplash',\n",
       " 'Paddington 2',\n",
       " 'Ex Machina',\n",
       " 'Inception',\n",
       " 'Drive',\n",
       " 'Roma',\n",
       " 'Mother!',\n",
       " 'The Grand Budapest Hotel',\n",
       " 'First Reformed',\n",
       " 'Nightcrawler',\n",
       " 'Dunkirk',\n",
       " 'Black Swan',\n",
       " 'The Tree of Life',\n",
       " 'Her',\n",
       " 'Inside Llewyn Davis',\n",
       " 'The Master',\n",
       " 'Frances Ha',\n",
       " 'Call Me by Your Name',\n",
       " 'Eighth Grade',\n",
       " 'Spider-Man: Into the Spider-Verse',\n",
       " 'The Florida Project',\n",
       " 'The Social Network',\n",
       " 'Lady Bird',\n",
       " 'Mad Max: Fury Road',\n",
       " 'Boyhood',\n",
       " 'Moonlight',\n",
       " 'Get Out']"
      ]
     },
     "execution_count": 324,
     "metadata": {},
     "output_type": "execute_result"
    }
   ],
   "source": [
    "sol"
   ]
  },
  {
   "cell_type": "markdown",
   "metadata": {},
   "source": [
    "<h2> Games Radar </h2>"
   ]
  },
  {
   "cell_type": "code",
   "execution_count": 325,
   "metadata": {
    "ExecuteTime": {
     "end_time": "2019-12-24T17:13:29.311233Z",
     "start_time": "2019-12-24T17:13:28.382068Z"
    }
   },
   "outputs": [
    {
     "data": {
      "text/plain": [
       "['<strong>Best of the Decade</strong>',\n",
       " '<strong>100 Best TV shows of the decade</strong>',\n",
       " '<strong>100 Best games of the decade</strong>',\n",
       " '<h2 id=\"100-once-upon-a-time-x2026-in-hollywood\">100. Once Upon A time… In Hollywood</h2>',\n",
       " '<strong>Once Upon A Time... In Hollywood<br>\\nYear:</strong>',\n",
       " '<strong>Director:</strong>',\n",
       " '<strong>Jamie Graham\\xa0</strong>',\n",
       " '<strong>99. A Girl Walks Home Alone At Night<br>\\nYear:</strong>',\n",
       " '<strong>Director:</strong>',\n",
       " '<strong>Jamie Graham</strong>',\n",
       " '<strong>98. The Shape of Water<br>\\nYear:</strong>',\n",
       " '<strong>Director:</strong>',\n",
       " '<strong>Matt Maytum</strong>',\n",
       " '<strong>97. Booksmart<br>\\nYear:</strong>',\n",
       " '<strong>Director:</strong>',\n",
       " '<strong>Chris Schilling</strong>',\n",
       " '<strong>96. Senna<br>\\nYear:</strong>',\n",
       " '<strong>Director:</strong>',\n",
       " '<strong>Neil Smith</strong>',\n",
       " '<h2 id=\"95-attack-the-block\">95. Attack The Block</h2>',\n",
       " '<strong>Year:</strong>',\n",
       " '<strong>Director:</strong>',\n",
       " '<strong>James Mottram</strong>',\n",
       " '<strong>94. BPM<br>\\nYear:</strong>',\n",
       " '<strong>Director:</strong>',\n",
       " '<strong>Josh Winning</strong>',\n",
       " '<strong>93. Scott Pilgrim Vs. The World<br>\\nYear:</strong>',\n",
       " '<strong>Director:</strong>',\n",
       " '<strong>Paul Bradshaw</strong>',\n",
       " '<strong>92. Dredd<br>\\nYear:</strong>',\n",
       " '<strong>Director:</strong>',\n",
       " '<strong>Kevin Harley</strong>',\n",
       " '<strong>91. Mother<br>\\nYear:</strong>',\n",
       " '<strong>Director:</strong>',\n",
       " '<strong>Tim Coleman</strong>',\n",
       " '<h2 id=\"90-youth\">90. Youth</h2>',\n",
       " '<strong>Year:</strong>',\n",
       " '<strong>Director:</strong>',\n",
       " '<strong>Hanna Flint</strong>',\n",
       " '<strong>89. The Wailing<br>\\nYear:</strong>',\n",
       " '<strong>Director:</strong>',\n",
       " '<strong>Josh Winning</strong>',\n",
       " '<strong>88. Sicario<br>\\nYear:</strong>',\n",
       " '<strong>Director:</strong>',\n",
       " '<strong>Paul Bradshaw</strong>',\n",
       " '<strong>87. Brooklyn<br>\\nYear:</strong>',\n",
       " '<strong>Director:</strong>',\n",
       " '<strong>Neil Smith</strong>',\n",
       " '<strong>86. Mission: Impossible – Fallout<br>\\nYear:</strong>',\n",
       " '<strong>Director:</strong>',\n",
       " '<strong>Matt Maytum</strong>',\n",
       " '<h2 id=\"85-star-wars-the-last-jedi\">85. Star Wars: The Last Jedi</h2>',\n",
       " '<strong>Year:</strong>',\n",
       " '<strong>Director:</strong>',\n",
       " '<strong>Matthew Leyland</strong>',\n",
       " '<strong>84. Paddington 2<br>\\nYear:</strong>',\n",
       " '<strong>Director:</strong>',\n",
       " '<strong>Tim Coleman</strong>',\n",
       " '<strong>83. Leave No trace<br>\\nYear:</strong>',\n",
       " '<strong>Director:</strong>',\n",
       " '<strong>Chris Schilling</strong>',\n",
       " '<strong>82. Burning<br>\\nYear:</strong>',\n",
       " '<strong>Director:</strong>',\n",
       " '<strong>Chris Schilling</strong>',\n",
       " '<strong>81. Inherent Vice<br>\\nYear:</strong>',\n",
       " '<strong>Director:</strong>',\n",
       " '<strong>Jamie Graham</strong>',\n",
       " '<h2 id=\"80-once-upon-a-time-in-anatolia\">80. Once Upon A Time In Anatolia</h2>',\n",
       " '<strong>Year:</strong>',\n",
       " '<strong>Director: </strong>',\n",
       " '<strong>James Mottram</strong>',\n",
       " '<strong>79. The Turin Horse<br>\\nYear:</strong>',\n",
       " '<strong>Director:</strong>',\n",
       " '<strong>Jamie Graham</strong>',\n",
       " '<strong>78. A Quiet Place<br>\\nYear: </strong>',\n",
       " '<strong>Director: </strong>',\n",
       " '<strong>Matt Maytum</strong>',\n",
       " '<strong>77. Before Midnight<br>\\nYear:</strong>',\n",
       " '<strong>Director:</strong>',\n",
       " '<strong>Matt Maytum</strong>',\n",
       " '<strong>76. The Wolf of Wall Street<br>\\nYear:</strong>',\n",
       " '<strong>Director:</strong>',\n",
       " '<strong>James Mottram</strong>',\n",
       " '<h2 id=\"75-monsters\">75. Monsters</h2>',\n",
       " '<strong>Year:</strong>',\n",
       " '<strong>Director: </strong>',\n",
       " '<strong>Jamie Graham</strong>',\n",
       " '<strong>74. Ida<br>\\nYear:</strong>',\n",
       " '<strong>Director:</strong>',\n",
       " '<strong>James Mottram</strong>',\n",
       " '<strong>73. The Great Beauty<br>\\nYear:</strong>',\n",
       " '<strong>Director:</strong>',\n",
       " '<strong>Kevin Harley</strong>',\n",
       " '<strong>72. Beasts of the Southern Wild<br>\\nYear:</strong>',\n",
       " '<strong>Director:</strong>',\n",
       " '<strong>Hanna Flint</strong>',\n",
       " '<h2 id=\"71-cold-war\">71. Cold War</h2>',\n",
       " '<strong>Year:</strong>',\n",
       " '<strong>Director:</strong>',\n",
       " '<strong>Neil Smith</strong>']"
      ]
     },
     "execution_count": 325,
     "metadata": {},
     "output_type": "execute_result"
    }
   ],
   "source": [
    "link = \"https://www.gamesradar.com/decade-best-movies-2010-2019/\"\n",
    "tag = 'strong , h2'\n",
    "movies = parser(link, tag)\n",
    "movies"
   ]
  },
  {
   "cell_type": "code",
   "execution_count": 448,
   "metadata": {
    "ExecuteTime": {
     "end_time": "2019-12-24T17:49:46.073831Z",
     "start_time": "2019-12-24T17:49:42.241790Z"
    }
   },
   "outputs": [
    {
     "data": {
      "text/plain": [
       "[['Once Upon A time… In Hollywood',\n",
       "  'In Hollywood',\n",
       "  'A Girl Walks Home Alone At Night',\n",
       "  'The Shape of Water',\n",
       "  'Booksmart',\n",
       "  'Senna',\n",
       "  'Attack The Block',\n",
       "  'BPM',\n",
       "  'Scott Pilgrim Vs. The World',\n",
       "  'Dredd',\n",
       "  'Mother',\n",
       "  'Youth',\n",
       "  'The Wailing',\n",
       "  'Sicario',\n",
       "  'Brooklyn',\n",
       "  'Mission: Impossible – Fallout',\n",
       "  'Star Wars: The Last Jedi',\n",
       "  'Paddington 2',\n",
       "  'Leave No trace',\n",
       "  'Burning',\n",
       "  'Inherent Vice',\n",
       "  'Once Upon A Time In Anatolia',\n",
       "  'The Turin Horse',\n",
       "  'A Quiet Place',\n",
       "  'Before Midnight',\n",
       "  'The Wolf of Wall Street',\n",
       "  'Monsters',\n",
       "  'Ida',\n",
       "  'The Great Beauty',\n",
       "  'Beasts of the Southern Wild',\n",
       "  'Cold War'],\n",
       " ['Thor: Ragnarok',\n",
       "  'Roma',\n",
       "  'Coco',\n",
       "  '12 Years A Slave',\n",
       "  'Uncle Boonmee Who Can Recall His Past Lives',\n",
       "  'Guardians of the Galaxy',\n",
       "  'The Favourite',\n",
       "  'Birdman',\n",
       "  'The Artist',\n",
       "  'Inside Llewyn Davis',\n",
       "  'The Lobster',\n",
       "  'The Lost City of Z',\n",
       "  'Captain America: The Winter Soldier',\n",
       "  'You Were Never Really Here',\n",
       "  'The Master',\n",
       "  'Spider-Man: Into the Spider-Verse',\n",
       "  'Shame',\n",
       "  'Toy Story 3',\n",
       "  'Four Lions',\n",
       "  'Moonlight',\n",
       "  'Room',\n",
       "  'Skyfall',\n",
       "  'The Dark Knight Rises',\n",
       "  'Looper',\n",
       "  'Nocturama',\n",
       "  'Columbus',\n",
       "  'American Honey',\n",
       "  'Carlos',\n",
       "  'The Revenant',\n",
       "  'Eighth Grade'],\n",
       " ['Toni Erdmann',\n",
       "  'Kill List',\n",
       "  'Carol',\n",
       "  'Lady Bird',\n",
       "  'Get Out',\n",
       "  'Joker',\n",
       "  'Amour',\n",
       "  'Avengers: Infinity War',\n",
       "  'Blue Valentine ',\n",
       "  'Blue Is The Warmest Colour ',\n",
       "  'The Grand Budapest Hotel',\n",
       "  'The Social Network',\n",
       "  'The Babadook',\n",
       "  'Hereditary',\n",
       "  'Interstellar ',\n",
       "  'Ex Machina\\xa0',\n",
       "  'Blade Runner 2049',\n",
       "  'Nightcrawler',\n",
       "  'It Follows',\n",
       "  'Bridesmaids',\n",
       "  'Drive',\n",
       "  'Call Me By Your Name',\n",
       "  'Zero Dark Thirty',\n",
       "  'Frances Ha',\n",
       "  'Gravity',\n",
       "  'Star Wars: The Force Awakens\\xa0',\n",
       "  'The Raid',\n",
       "  'Phantom Thread',\n",
       "  'Black Swan',\n",
       "  'Son of Saul'],\n",
       " ['Dunkirk',\n",
       "  'Arrival',\n",
       "  'Inside Out',\n",
       "  'The Tree of Life',\n",
       "  'Mad Max: Fury Road',\n",
       "  'Under The Skin',\n",
       "  'Boyhood',\n",
       "  'Whiplash',\n",
       "  'La La Land',\n",
       "  'Inception']]"
      ]
     },
     "execution_count": 448,
     "metadata": {},
     "output_type": "execute_result"
    }
   ],
   "source": [
    "link = \"https://www.gamesradar.com/decade-best-movies-2010-2019/\"\n",
    "links = [link + str(i) for i in range(1,5)]\n",
    "tag = 'strong , h2'\n",
    "sol = []\n",
    "for link in links:\n",
    "    movies = parser(link, tag)\n",
    "    sol.append(find_movies(movies, '\\. (.*?)<'))\n",
    "sol"
   ]
  },
  {
   "cell_type": "code",
   "execution_count": 449,
   "metadata": {
    "ExecuteTime": {
     "end_time": "2019-12-24T17:50:17.659386Z",
     "start_time": "2019-12-24T17:50:17.640016Z"
    }
   },
   "outputs": [
    {
     "data": {
      "text/plain": [
       "['Once Upon A time… In Hollywood',\n",
       " 'In Hollywood',\n",
       " 'A Girl Walks Home Alone At Night',\n",
       " 'The Shape of Water',\n",
       " 'Booksmart',\n",
       " 'Senna',\n",
       " 'Attack The Block',\n",
       " 'BPM',\n",
       " 'Scott Pilgrim Vs. The World',\n",
       " 'Dredd',\n",
       " 'Mother',\n",
       " 'Youth',\n",
       " 'The Wailing',\n",
       " 'Sicario',\n",
       " 'Brooklyn',\n",
       " 'Mission: Impossible – Fallout',\n",
       " 'Star Wars: The Last Jedi',\n",
       " 'Paddington 2',\n",
       " 'Leave No trace',\n",
       " 'Burning',\n",
       " 'Inherent Vice',\n",
       " 'Once Upon A Time In Anatolia',\n",
       " 'The Turin Horse',\n",
       " 'A Quiet Place',\n",
       " 'Before Midnight',\n",
       " 'The Wolf of Wall Street',\n",
       " 'Monsters',\n",
       " 'Ida',\n",
       " 'The Great Beauty',\n",
       " 'Beasts of the Southern Wild',\n",
       " 'Cold War',\n",
       " 'Thor: Ragnarok',\n",
       " 'Roma',\n",
       " 'Coco',\n",
       " '12 Years A Slave',\n",
       " 'Uncle Boonmee Who Can Recall His Past Lives',\n",
       " 'Guardians of the Galaxy',\n",
       " 'The Favourite',\n",
       " 'Birdman',\n",
       " 'The Artist',\n",
       " 'Inside Llewyn Davis',\n",
       " 'The Lobster',\n",
       " 'The Lost City of Z',\n",
       " 'Captain America: The Winter Soldier',\n",
       " 'You Were Never Really Here',\n",
       " 'The Master',\n",
       " 'Spider-Man: Into the Spider-Verse',\n",
       " 'Shame',\n",
       " 'Toy Story 3',\n",
       " 'Four Lions',\n",
       " 'Moonlight',\n",
       " 'Room',\n",
       " 'Skyfall',\n",
       " 'The Dark Knight Rises',\n",
       " 'Looper',\n",
       " 'Nocturama',\n",
       " 'Columbus',\n",
       " 'American Honey',\n",
       " 'Carlos',\n",
       " 'The Revenant',\n",
       " 'Eighth Grade',\n",
       " 'Toni Erdmann',\n",
       " 'Kill List',\n",
       " 'Carol',\n",
       " 'Lady Bird',\n",
       " 'Get Out',\n",
       " 'Joker',\n",
       " 'Amour',\n",
       " 'Avengers: Infinity War',\n",
       " 'Blue Valentine ',\n",
       " 'Blue Is The Warmest Colour ',\n",
       " 'The Grand Budapest Hotel',\n",
       " 'The Social Network',\n",
       " 'The Babadook',\n",
       " 'Hereditary',\n",
       " 'Interstellar ',\n",
       " 'Ex Machina\\xa0',\n",
       " 'Blade Runner 2049',\n",
       " 'Nightcrawler',\n",
       " 'It Follows',\n",
       " 'Bridesmaids',\n",
       " 'Drive',\n",
       " 'Call Me By Your Name',\n",
       " 'Zero Dark Thirty',\n",
       " 'Frances Ha',\n",
       " 'Gravity',\n",
       " 'Star Wars: The Force Awakens\\xa0',\n",
       " 'The Raid',\n",
       " 'Phantom Thread',\n",
       " 'Black Swan',\n",
       " 'Son of Saul',\n",
       " 'Dunkirk',\n",
       " 'Arrival',\n",
       " 'Inside Out',\n",
       " 'The Tree of Life',\n",
       " 'Mad Max: Fury Road',\n",
       " 'Under The Skin',\n",
       " 'Boyhood',\n",
       " 'Whiplash',\n",
       " 'La La Land',\n",
       " 'Inception']"
      ]
     },
     "execution_count": 449,
     "metadata": {},
     "output_type": "execute_result"
    }
   ],
   "source": [
    "#unwrap list of lists for ease of copy paste\n",
    "flat_sol = [item for sublist in sol for item in sublist]\n",
    "flat_sol"
   ]
  },
  {
   "cell_type": "markdown",
   "metadata": {
    "collapsed": true
   },
   "source": [
    "<h2> AV Club </h2>"
   ]
  },
  {
   "cell_type": "code",
   "execution_count": 395,
   "metadata": {
    "ExecuteTime": {
     "end_time": "2019-12-24T17:35:35.920566Z",
     "start_time": "2019-12-24T17:35:35.436113Z"
    }
   },
   "outputs": [
    {
     "data": {
      "text/plain": [
       "['<em>Miss Bala</em>',\n",
       " '<em>The Immigrant</em>',\n",
       " '<em>\\xa0</em>',\n",
       " '<em>The Comedy</em>',\n",
       " '<em>Uncle Boonmee Who Can Recall His Past Lives</em>',\n",
       " '<em>Bridesmaids</em>',\n",
       " '<em> </em>',\n",
       " '<em>Cameraperson</em>',\n",
       " '<em> </em>',\n",
       " '<em>The Turin Horse</em>',\n",
       " '<em> </em>',\n",
       " '<em>Creed</em>',\n",
       " '<em>Uncut Gems</em>',\n",
       " '<em>The Arbor</em>',\n",
       " '<em>High Life</em>',\n",
       " '<em> </em>',\n",
       " '<em>Carol</em>',\n",
       " '<em> </em>',\n",
       " '<em>Drug War</em>',\n",
       " '<em> </em>',\n",
       " '<em>Weekend</em>',\n",
       " '<em>The Lost City Of Z</em>',\n",
       " '<em> </em>',\n",
       " '<em>Happy Hour</em>',\n",
       " '<em> </em>',\n",
       " '<em>Tangerine</em>',\n",
       " '<em>Gone Girl</em>',\n",
       " '<em> </em>',\n",
       " '<em>You Were Never Really Here</em>',\n",
       " '<em>Spring Breakers</em>',\n",
       " '<em>Hereditary</em>',\n",
       " '<em>Hell Or High Water</em>',\n",
       " '<em>Shoplifters</em>',\n",
       " '<em>Paddington 2</em>',\n",
       " '<em> </em>',\n",
       " '<em>Zero Dark Thirty</em>',\n",
       " '<em>\\xa0</em>',\n",
       " '<em>Mudbound</em>',\n",
       " '<em>Minding The Gap</em>',\n",
       " '<em> </em>',\n",
       " '<em>Stranger By The Lake</em>',\n",
       " '<em>Computer Chess</em>',\n",
       " '<em> </em>',\n",
       " '<em>Mustang</em>',\n",
       " '<em>Tabu</em>',\n",
       " '<em>\\xa0</em>',\n",
       " '<em>The Witch</em>',\n",
       " '<em>\\xa0</em>',\n",
       " '<em>American Honey</em>',\n",
       " '<em>\\xa0</em>',\n",
       " '<em>12 Years A Slave</em>',\n",
       " '<em>Force Majeure</em>',\n",
       " '<em>Right Now, Wrong Then</em>',\n",
       " '<em>\\xa0</em>',\n",
       " '<em>Spider-Man: Into The Spiderverse</em>',\n",
       " '<em> </em>',\n",
       " '<em>Eighth Grade</em>',\n",
       " '<em>The Loneliest Planet</em>',\n",
       " '<em> </em>',\n",
       " '<em>Inside Out</em>',\n",
       " '<em>\\xa0</em>',\n",
       " '<em>The Favourite</em>',\n",
       " '<em>Support The Girls</em>',\n",
       " '<em>A Ghost Story</em>',\n",
       " '<em>Drive</em>',\n",
       " '<em> </em>',\n",
       " '<em>Inception</em>',\n",
       " '<em>\\xa0</em>',\n",
       " '<em>Her Smell</em>',\n",
       " '<em>La La Land</em>',\n",
       " '<em>\\xa0</em>',\n",
       " '<em>\\xa0</em>',\n",
       " '<em>The Lobster</em>',\n",
       " '<em> </em>',\n",
       " '<em>Parasite</em>',\n",
       " '<em>Her</em>',\n",
       " '<em>\\xa0</em>',\n",
       " '<em>Amour</em>',\n",
       " '<em> </em>',\n",
       " '<em>Call Me By Your Name</em>',\n",
       " '<em>\\xa0</em>',\n",
       " '<em>Paterson</em>',\n",
       " '<em>\\xa0</em>',\n",
       " '<em>It Follows</em>',\n",
       " '<em> </em>',\n",
       " '<em>Arrival</em>',\n",
       " '<em>\\xa0</em>',\n",
       " '<em>Moonrise Kingdom</em>',\n",
       " '<em>Green Room</em>',\n",
       " '<em> </em>',\n",
       " '<em>Marriage Story</em>',\n",
       " '<em>Leviathan</em>',\n",
       " '<em>Magic Mike XXL</em>',\n",
       " '<em> </em>',\n",
       " '<em>Elle</em>',\n",
       " '<em>Once Upon A Time… In Hollywood</em>',\n",
       " '<em>\\xa0</em>',\n",
       " '<em>Everyone Else</em>',\n",
       " '<em> </em>',\n",
       " '<em>Whiplash</em>',\n",
       " '<em>\\xa0</em>',\n",
       " '<em>Upstream Color</em>',\n",
       " '<em>Get Out</em>',\n",
       " '<em>The Duke Of Burgundy</em>',\n",
       " '<em>Roma</em>',\n",
       " '<em>Burning</em>',\n",
       " '<em> </em>',\n",
       " '<em>Winter’s Bone</em>',\n",
       " '<em>Before Midnight</em>',\n",
       " '<em> </em>',\n",
       " '<em>Dogtooth</em>',\n",
       " '<em>Melancholia</em>',\n",
       " '<em>\\xa0</em>',\n",
       " '<em>The Handmaiden</em>',\n",
       " '<em>Phoenix</em>',\n",
       " '<em> </em>',\n",
       " '<em>Two Days, One Night</em>',\n",
       " '<em>The Wolf Of Wall Street</em>',\n",
       " '<em>Toni Erdmann</em>',\n",
       " '<em> </em>',\n",
       " '<em>First Reformed</em>',\n",
       " '<em>Nocturama</em>',\n",
       " '<em>\\xa0</em>',\n",
       " '<em>Meek’s Cutoff</em>',\n",
       " '<em> </em>',\n",
       " '<em>Margaret</em>',\n",
       " '<em> </em>',\n",
       " '<em>Certified Copy</em>',\n",
       " '<em>The Grand Budapest Hotel</em>',\n",
       " '<em>Inside Llewyn Davis</em>',\n",
       " '<em>The Act Of Killing</em>',\n",
       " '<em> </em>',\n",
       " '<em>The Look Of Silence</em>',\n",
       " '<em> </em>',\n",
       " '<em>Holy Motors</em>',\n",
       " '<em>Boyhood</em>',\n",
       " '<em>\\xa0</em>',\n",
       " '<em>Manchester By The Sea</em>',\n",
       " '<em>Under The Skin</em>',\n",
       " '<em>Lady Bird</em>',\n",
       " '<em>Phantom Thread</em>',\n",
       " '<em>Frances Ha</em>',\n",
       " '<em>\\xa0</em>',\n",
       " '<em>The Florida Project</em>',\n",
       " '<em> </em>',\n",
       " '<em>Moonlight</em>',\n",
       " '<em> </em>',\n",
       " '<em>The Tree Of Life</em>',\n",
       " '<em>\\xa0</em>',\n",
       " '<em>A Separation</em>',\n",
       " '<em> </em>',\n",
       " '<em>The Social Network</em>',\n",
       " '<em>The Master</em>',\n",
       " '<em>\\xa0</em>',\n",
       " '<em>Mad Max: Fury Road</em>']"
      ]
     },
     "execution_count": 395,
     "metadata": {},
     "output_type": "execute_result"
    }
   ],
   "source": [
    "link = \"https://film.avclub.com/the-100-best-movies-of-the-2010s-1839846306\"\n",
    "tag = '.bTZVlP em'\n",
    "movies = parser(link, tag)\n",
    "movies"
   ]
  },
  {
   "cell_type": "code",
   "execution_count": 396,
   "metadata": {
    "ExecuteTime": {
     "end_time": "2019-12-24T17:35:44.399490Z",
     "start_time": "2019-12-24T17:35:44.320359Z"
    }
   },
   "outputs": [
    {
     "data": {
      "text/plain": [
       "['Miss Bala',\n",
       " 'The Immigrant',\n",
       " 'The Comedy',\n",
       " 'Uncle Boonmee Who Can Recall His Past Lives',\n",
       " 'Bridesmaids',\n",
       " 'Cameraperson',\n",
       " 'The Turin Horse',\n",
       " 'Creed',\n",
       " 'Uncut Gems',\n",
       " 'The Arbor',\n",
       " 'High Life',\n",
       " 'Carol',\n",
       " 'Drug War',\n",
       " 'Weekend',\n",
       " 'The Lost City Of Z',\n",
       " 'Happy Hour',\n",
       " 'Tangerine',\n",
       " 'Gone Girl',\n",
       " 'You Were Never Really Here',\n",
       " 'Spring Breakers',\n",
       " 'Hereditary',\n",
       " 'Hell Or High Water',\n",
       " 'Shoplifters',\n",
       " 'Paddington 2',\n",
       " 'Zero Dark Thirty',\n",
       " 'Mudbound',\n",
       " 'Minding The Gap',\n",
       " 'Stranger By The Lake',\n",
       " 'Computer Chess',\n",
       " 'Mustang',\n",
       " 'Tabu',\n",
       " 'The Witch',\n",
       " 'American Honey',\n",
       " '12 Years A Slave',\n",
       " 'Force Majeure',\n",
       " 'Right Now, Wrong Then',\n",
       " 'Spider-Man: Into The Spiderverse',\n",
       " 'Eighth Grade',\n",
       " 'The Loneliest Planet',\n",
       " 'Inside Out',\n",
       " 'The Favourite',\n",
       " 'Support The Girls',\n",
       " 'A Ghost Story',\n",
       " 'Drive',\n",
       " 'Inception',\n",
       " 'Her Smell',\n",
       " 'La La Land',\n",
       " 'The Lobster',\n",
       " 'Parasite',\n",
       " 'Her',\n",
       " 'Amour',\n",
       " 'Call Me By Your Name',\n",
       " 'Paterson',\n",
       " 'It Follows',\n",
       " 'Arrival',\n",
       " 'Moonrise Kingdom',\n",
       " 'Green Room',\n",
       " 'Marriage Story',\n",
       " 'Leviathan',\n",
       " 'Magic Mike XXL',\n",
       " 'Elle',\n",
       " 'Once Upon A Time… In Hollywood',\n",
       " 'Everyone Else',\n",
       " 'Whiplash',\n",
       " 'Upstream Color',\n",
       " 'Get Out',\n",
       " 'The Duke Of Burgundy',\n",
       " 'Roma',\n",
       " 'Burning',\n",
       " 'Winter’s Bone',\n",
       " 'Before Midnight',\n",
       " 'Dogtooth',\n",
       " 'Melancholia',\n",
       " 'The Handmaiden',\n",
       " 'Phoenix',\n",
       " 'Two Days, One Night',\n",
       " 'The Wolf Of Wall Street',\n",
       " 'Toni Erdmann',\n",
       " 'First Reformed',\n",
       " 'Nocturama',\n",
       " 'Meek’s Cutoff',\n",
       " 'Margaret',\n",
       " 'Certified Copy',\n",
       " 'The Grand Budapest Hotel',\n",
       " 'Inside Llewyn Davis',\n",
       " 'The Act Of Killing',\n",
       " 'The Look Of Silence',\n",
       " 'Holy Motors',\n",
       " 'Boyhood',\n",
       " 'Manchester By The Sea',\n",
       " 'Under The Skin',\n",
       " 'Lady Bird',\n",
       " 'Phantom Thread',\n",
       " 'Frances Ha',\n",
       " 'The Florida Project',\n",
       " 'Moonlight',\n",
       " 'The Tree Of Life',\n",
       " 'A Separation',\n",
       " 'The Social Network',\n",
       " 'The Master',\n",
       " 'Mad Max: Fury Road']"
      ]
     },
     "execution_count": 396,
     "metadata": {},
     "output_type": "execute_result"
    }
   ],
   "source": [
    "remove_html(movies)"
   ]
  },
  {
   "cell_type": "markdown",
   "metadata": {},
   "source": [
    "<h2> Esquire </h2>"
   ]
  },
  {
   "cell_type": "code",
   "execution_count": 397,
   "metadata": {
    "ExecuteTime": {
     "end_time": "2019-12-24T17:35:59.634058Z",
     "start_time": "2019-12-24T17:35:59.193098Z"
    }
   },
   "outputs": [
    {
     "data": {
      "text/plain": [
       "['<span class=\"listicle-slide-hed-text\">10. Paddington 2 (2017)</span>',\n",
       " '<span class=\"listicle-slide-hed-text\">9. Moonlight (2016)</span>',\n",
       " '<span class=\"listicle-slide-hed-text\">8. The Handmaiden (2016)</span>',\n",
       " '<span class=\"listicle-slide-hed-text\">7. The Lobster (2015)</span>',\n",
       " '<span class=\"listicle-slide-hed-text\">6. Once Upon a Time...in Hollywood (2019)</span>',\n",
       " '<span class=\"listicle-slide-hed-text\">5. Whiplash (2014)</span>',\n",
       " '<span class=\"listicle-slide-hed-text\">4. Call Me By Your Name (2017)</span>',\n",
       " '<span class=\"listicle-slide-hed-text\">3. Mad Max: Fury Road (2015)</span>',\n",
       " '<span class=\"listicle-slide-hed-text\">2. Before Midnight (2013)</span>',\n",
       " '<span class=\"listicle-slide-hed-text\">1. The Social Network (2010)</span>']"
      ]
     },
     "execution_count": 397,
     "metadata": {},
     "output_type": "execute_result"
    }
   ],
   "source": [
    "link = \"https://www.esquire.com/entertainment/movies/g29892894/best-movies-of-the-2010s/\"\n",
    "tag = '.listicle-slide-hed-text'\n",
    "movies = parser(link, tag)\n",
    "movies"
   ]
  },
  {
   "cell_type": "code",
   "execution_count": 399,
   "metadata": {
    "ExecuteTime": {
     "end_time": "2019-12-24T17:36:13.475739Z",
     "start_time": "2019-12-24T17:36:13.460265Z"
    }
   },
   "outputs": [
    {
     "data": {
      "text/plain": [
       "[' Paddington  ',\n",
       " ' Moonlight ',\n",
       " ' The Handmaiden ',\n",
       " ' The Lobster ',\n",
       " ' Once Upon a Timein Hollywood ',\n",
       " ' Whiplash ',\n",
       " ' Call Me By Your Name ',\n",
       " ' Mad Max: Fury Road ',\n",
       " ' Before Midnight ',\n",
       " ' The Social Network ']"
      ]
     },
     "execution_count": 399,
     "metadata": {},
     "output_type": "execute_result"
    }
   ],
   "source": [
    "remove_non_chars(remove_html(movies))"
   ]
  },
  {
   "cell_type": "markdown",
   "metadata": {},
   "source": [
    "<h2> New Yorker </h2>"
   ]
  },
  {
   "cell_type": "code",
   "execution_count": 400,
   "metadata": {
    "ExecuteTime": {
     "end_time": "2019-12-24T17:36:24.694943Z",
     "start_time": "2019-12-24T17:36:24.274097Z"
    }
   },
   "outputs": [
    {
     "data": {
      "text/plain": [
       "['The Wolf of Wall Street',\n",
       " 'Madeline’s Madeline',\n",
       " 'Get Out',\n",
       " 'An Elephant Sitting Still',\n",
       " 'Did You Wonder Who Fired the Gun?',\n",
       " 'The Future',\n",
       " 'Margaret',\n",
       " 'The Grand Budapest Hotel',\n",
       " 'Somewhere',\n",
       " 'Li’l Quinquin',\n",
       " 'Film Socialisme',\n",
       " 'An Oversimplification of Her Beauty',\n",
       " 'Holy Motors',\n",
       " 'Coma',\n",
       " 'Red Hook Summer',\n",
       " 'Zama',\n",
       " 'Moonlight',\n",
       " 'The Mule',\n",
       " 'It Felt Like Love',\n",
       " 'The Last of the Unjust',\n",
       " 'In Jackson Heights',\n",
       " 'A Ghost Story',\n",
       " 'A Screaming Man',\n",
       " 'A Quiet Passion',\n",
       " 'Taxi',\n",
       " 'Let the Sunshine In',\n",
       " 'Infinite Football']"
      ]
     },
     "execution_count": 400,
     "metadata": {},
     "output_type": "execute_result"
    }
   ],
   "source": [
    "link = \"https://www.newyorker.com/culture/decade-in-review/the-twenty-seven-best-movies-of-the-decade\"\n",
    "tag = 'strong'\n",
    "movies = parser(link, tag)\n",
    "remove_html(movies)"
   ]
  },
  {
   "cell_type": "markdown",
   "metadata": {},
   "source": [
    "<h2> Stacker </h2>\n",
    "\n",
    "This website has 100 pages, however upon scraping I found I didn't have to iterate through all the pages which is great."
   ]
  },
  {
   "cell_type": "code",
   "execution_count": 401,
   "metadata": {
    "ExecuteTime": {
     "end_time": "2019-12-24T17:37:00.301488Z",
     "start_time": "2019-12-24T17:36:59.918767Z"
    },
    "collapsed": true
   },
   "outputs": [],
   "source": [
    "link = \"https://thestacker.com/stories/3678/100-best-movies-last-decade-according-critics#1\"\n",
    "tag = '.views-field-field-slide-caption .field-content'\n",
    "movies = parser(link, tag)"
   ]
  },
  {
   "cell_type": "code",
   "execution_count": 404,
   "metadata": {
    "ExecuteTime": {
     "end_time": "2019-12-24T17:37:17.897731Z",
     "start_time": "2019-12-24T17:37:17.844575Z"
    }
   },
   "outputs": [
    {
     "data": {
      "text/plain": [
       "[' Manuscripts Dont Burn ',\n",
       " ' The Arbor ',\n",
       " ' A Film Unfinished ',\n",
       " ' Selma ',\n",
       " ' Blue Is the Warmest Color ',\n",
       " ' The Kings Speech ',\n",
       " ' Inside Job ',\n",
       " ' Western ',\n",
       " ' Zama ',\n",
       " ' Elle ',\n",
       " ' Long Days Journey Into Night ',\n",
       " ' Columbus ',\n",
       " ' Uncertain ',\n",
       " ' National Gallery ',\n",
       " ' Phoenix ',\n",
       " ' Two Days One Night ',\n",
       " ' The Overnighters ',\n",
       " ' Eighth Grade ',\n",
       " ' The Artist ',\n",
       " ' The Farewell ',\n",
       " ' The Tale of The Princess Kaguya ',\n",
       " ' Gangs of Wasseypur ',\n",
       " ' Dead Souls ',\n",
       " ' The Fits ',\n",
       " ' Hard to Be a God ',\n",
       " ' Big Men ',\n",
       " ' My Perestroika ',\n",
       " ' Winters Bone ',\n",
       " ' American Hustle ',\n",
       " ' I Called Him Morgan ',\n",
       " ' The Tale ',\n",
       " ' Paterson ',\n",
       " ' Paths of the Soul ',\n",
       " ' This Is Not a Film ',\n",
       " ' Phantom Thread ',\n",
       " ' Burning ',\n",
       " ' Cold War ',\n",
       " ' The Favourite ',\n",
       " ' Gett: The Trial of Viviane Amsalem ',\n",
       " ' A Prophet ',\n",
       " ' Her ',\n",
       " ' Minding the Gap ',\n",
       " ' Mad Max: Fury Road ',\n",
       " ' The Act of Killing ',\n",
       " ' Its Such a Beautiful Day ',\n",
       " ' For Sama ',\n",
       " ' Gavagai ',\n",
       " ' A Bread Factory Part One  Part Two ',\n",
       " ' Taxi ',\n",
       " ' Ida ',\n",
       " ' Ex Libris: The New York Public Library ',\n",
       " ' Stories We Tell ',\n",
       " ' Son of Saul ',\n",
       " ' Nostalgia for the Light ',\n",
       " ' The Gatekeepers ',\n",
       " ' Uncut Gems ',\n",
       " ' They Shall Not Grow Old ',\n",
       " ' The Souvenir ',\n",
       " ' Timbuktu ',\n",
       " ' The Rider ',\n",
       " ' Leviathan ',\n",
       " ' The Florida Project ',\n",
       " ' Tower ',\n",
       " ' One More Time with Feeling ',\n",
       " ' The Look of Silence ',\n",
       " ' Toy Story  ',\n",
       " ' Toni Erdmann ',\n",
       " ' Inside Llewyn Davis ',\n",
       " ' Sherpa ',\n",
       " ' Shoah: Four Sisters ',\n",
       " ' Call Me By Your Name ',\n",
       " ' Shoplifters ',\n",
       " ' La La Land ',\n",
       " ' Spotlight ',\n",
       " ' Portrait of a Lady on Fire ',\n",
       " ' Mr Turner ',\n",
       " '  Years ',\n",
       " ' Lady Bird ',\n",
       " ' Amazing Grace ',\n",
       " ' Carlos ',\n",
       " ' We Were Here ',\n",
       " ' Faces Places ',\n",
       " ' Amour ',\n",
       " ' Before Midnight ',\n",
       " ' Dunkirk ',\n",
       " ' Marriage Story ',\n",
       " ' Inside Out ',\n",
       " ' Carol ',\n",
       " ' Zero Dark Thirty ',\n",
       " ' The Social Network ',\n",
       " ' I Am Not Your Negro ',\n",
       " ' A Separation ',\n",
       " ' Parasite ',\n",
       " ' The Irishman ',\n",
       " ' Gravity ',\n",
       " ' Roma ',\n",
       " ' Manchester by the Sea ',\n",
       " '  Years a Slave ',\n",
       " ' Moonlight ',\n",
       " ' Boyhood ']"
      ]
     },
     "execution_count": 404,
     "metadata": {},
     "output_type": "execute_result"
    }
   ],
   "source": [
    "remove_non_chars(remove_html(movies))[1:]"
   ]
  },
  {
   "cell_type": "markdown",
   "metadata": {},
   "source": [
    "<h2> Vanity Fair </h2>"
   ]
  },
  {
   "cell_type": "code",
   "execution_count": 405,
   "metadata": {
    "ExecuteTime": {
     "end_time": "2019-12-24T17:37:37.720323Z",
     "start_time": "2019-12-24T17:37:36.994057Z"
    },
    "collapsed": true
   },
   "outputs": [],
   "source": [
    "link = \"https://www.vanityfair.com/hollywood/2019/11/best-movies-decade-2010s-lawson\"\n",
    "tag = \"h2 em\"\n",
    "movies = remove_html(parser(link, tag))"
   ]
  },
  {
   "cell_type": "code",
   "execution_count": 406,
   "metadata": {
    "ExecuteTime": {
     "end_time": "2019-12-24T17:37:38.117872Z",
     "start_time": "2019-12-24T17:37:38.103137Z"
    }
   },
   "outputs": [
    {
     "data": {
      "text/plain": [
       "['Princess Cyd',\n",
       " 'Weekend',\n",
       " 'Force Majeure',\n",
       " 'Eden',\n",
       " 'Get Out',\n",
       " 'Parasite',\n",
       " 'Melancholia',\n",
       " 'Dawson City: Frozen Time',\n",
       " 'Phantom Thread',\n",
       " 'Mad Max: Fury Road']"
      ]
     },
     "execution_count": 406,
     "metadata": {},
     "output_type": "execute_result"
    }
   ],
   "source": [
    "movies"
   ]
  },
  {
   "cell_type": "markdown",
   "metadata": {},
   "source": [
    "<h2> Uproxx </h2>"
   ]
  },
  {
   "cell_type": "code",
   "execution_count": 407,
   "metadata": {
    "ExecuteTime": {
     "end_time": "2019-12-24T17:37:47.776778Z",
     "start_time": "2019-12-24T17:37:47.407377Z"
    },
    "collapsed": true
   },
   "outputs": [],
   "source": [
    "link = \"https://uproxx.com/movies/uproxx-best-movies-of-2010s-decade/\"\n",
    "tag = \"strong em\"\n",
    "movies = remove_html(parser(link, tag))"
   ]
  },
  {
   "cell_type": "code",
   "execution_count": 409,
   "metadata": {
    "ExecuteTime": {
     "end_time": "2019-12-24T17:37:55.720967Z",
     "start_time": "2019-12-24T17:37:55.711152Z"
    }
   },
   "outputs": [
    {
     "data": {
      "text/plain": [
       "['Inside Llewyn Davis ',\n",
       " 'Get Out ',\n",
       " 'The Social Network  ',\n",
       " ' Years a Slave ',\n",
       " 'Mad Max: Fury Road ',\n",
       " 'OJ: Made in America ',\n",
       " 'Roma ',\n",
       " 'John Wick ',\n",
       " 'Once Upon a Time in Hollywood ',\n",
       " 'Moonlight ',\n",
       " 'Mission Impossible: Fallout ',\n",
       " 'Selma ',\n",
       " 'Wonder Woman ',\n",
       " 'Star Wars: The Last Jedi ',\n",
       " 'Ex Machina ',\n",
       " 'Black Panther ',\n",
       " 'La La Land ',\n",
       " 'Lady Bird ',\n",
       " 'Sorry to Bother You ',\n",
       " 'Snowpiercer ',\n",
       " 'Drive ']"
      ]
     },
     "execution_count": 409,
     "metadata": {},
     "output_type": "execute_result"
    }
   ],
   "source": [
    "remove_non_chars(movies)"
   ]
  },
  {
   "cell_type": "markdown",
   "metadata": {},
   "source": [
    "<h2> The Playlist </h2>\n",
    "\n",
    "This website proved quite hard to parse."
   ]
  },
  {
   "cell_type": "code",
   "execution_count": 410,
   "metadata": {
    "ExecuteTime": {
     "end_time": "2019-12-24T17:38:06.580117Z",
     "start_time": "2019-12-24T17:38:06.568460Z"
    },
    "collapsed": true
   },
   "outputs": [],
   "source": [
    "URLs = [\"https://theplaylist.net/best-100-films-decade-2010s-20191202/#cb-content\",]\n",
    "for i in range(2,11):\n",
    "    URLs.append(URL + str(i) + \"/#cb-content\")"
   ]
  },
  {
   "cell_type": "code",
   "execution_count": 411,
   "metadata": {
    "ExecuteTime": {
     "end_time": "2019-12-24T17:38:07.642689Z",
     "start_time": "2019-12-24T17:38:07.627705Z"
    }
   },
   "outputs": [
    {
     "data": {
      "text/plain": [
       "True"
      ]
     },
     "execution_count": 411,
     "metadata": {},
     "output_type": "execute_result"
    }
   ],
   "source": [
    "URLs\n",
    "URLs[-1] == \"https://theplaylist.net/best-100-films-decade-2010s-20191202/10/#cb-content\""
   ]
  },
  {
   "cell_type": "code",
   "execution_count": 437,
   "metadata": {
    "ExecuteTime": {
     "end_time": "2019-12-24T17:43:19.603360Z",
     "start_time": "2019-12-24T17:43:16.376305Z"
    }
   },
   "outputs": [
    {
     "data": {
      "text/plain": [
       "['<b>Greta Gerwigâ\\x80\\x99s</b>',\n",
       " '<b>Little Women</b>',\n",
       " '<b>100. â\\x80\\x9cMadelineâ\\x80\\x99s Madelineâ\\x80\\x9d </b>',\n",
       " '<b>99. â\\x80\\x9cPrivate Lifeâ\\x80\\x9d </b>',\n",
       " '<b>98.</b>',\n",
       " '<b>Martha Marcy May Marlene</b>',\n",
       " '<b>97</b>',\n",
       " '<b>Meekâ\\x80\\x99s Cutoff</b>',\n",
       " '<b>96. </b>',\n",
       " '<b>What We Do In The Shadows</b>',\n",
       " '<b>95. </b>',\n",
       " '<b>Mother!</b>',\n",
       " '<b>The Wailing</b>',\n",
       " '<b>â\\x80\\x9cMargaretâ\\x80\\x9d </b>',\n",
       " '<b>Inceptionâ\\x80\\x9d </b>',\n",
       " '<b>Zero Dark Thirty</b>',\n",
       " '<b>Shame</b>',\n",
       " '<b>The Hunt</b>',\n",
       " '<b>Blumhouse</b>',\n",
       " '<b>Ida</b>',\n",
       " '<b>The Lighthouse</b>',\n",
       " '<b>Spotlight</b>',\n",
       " '<b>85.</b>',\n",
       " '<b>â\\x80\\x9cNoâ\\x80\\x9d (2012)<br>\\n</b>',\n",
       " '<b>â\\x80\\x9cGirlhoodâ\\x80\\x9d </b>',\n",
       " '<b>Leviathanâ\\x80\\x9d </b>',\n",
       " '<b>â\\x80\\x9cStranger by the Lakeâ\\x80\\x9d<br>\\n</b>',\n",
       " '<b>â\\x80\\x9cBoyhoodâ\\x80\\x9d </b>',\n",
       " '<b>Force Majeure</b>',\n",
       " '<b>â\\x80\\x9cEdenâ\\x80\\x9d<br>\\n</b>',\n",
       " '<b>â\\x80\\x9cThe Duke of Burgundyâ\\x80\\x9d </b>',\n",
       " '<b>The Immigrant</b>',\n",
       " '<b>â\\x80\\x9cThe Social Networkâ\\x80\\x9d </b>',\n",
       " '<b>The Wolf of Wall Street</b>',\n",
       " '<b>â\\x80\\x9cZamaâ\\x80\\x9d </b>',\n",
       " '<b>Weekend</b>',\n",
       " '<b>72. â\\x80\\x9cWhite Materialâ\\x80\\x9d (2010)<br>\\n</b>',\n",
       " '<b>Claire Denis</b>',\n",
       " '<b>Shoplifters</b>',\n",
       " '<b>The Souvenir</b>',\n",
       " '<b>Suspiria</b>',\n",
       " '<b>â\\x80\\x9cTangerineâ\\x80\\x9d </b>',\n",
       " '<b>67.</b>',\n",
       " '<b>Upstream Color</b>',\n",
       " '<b>66. â\\x80\\x9cO.J.: Made in Americaâ\\x80\\x9d (2016)<br>\\n</b>',\n",
       " '<b>Ezra Edelman</b>',\n",
       " '<b>65. </b>',\n",
       " '<b>64.</b>',\n",
       " '<b>Portrait Of A Lady On Fire</b>',\n",
       " '<b>63. â\\x80\\x9cTabuâ\\x80\\x9d </b>',\n",
       " '<b>62. </b>',\n",
       " '<b>Uncle Boonmee Who Can Recall His Past Lives</b>',\n",
       " '<b>61.</b>',\n",
       " '<b>A Ghost Story</b>',\n",
       " '<b></b>',\n",
       " '<b>Call Me By Your Name</b>',\n",
       " '<b>59.</b>',\n",
       " '<b>â\\x80\\x9cOnce Upon A Time In Anatoliaâ\\x80\\x9d </b>',\n",
       " '<b>58. </b>',\n",
       " '<b>Phoenix</b>',\n",
       " '<b>57. â\\x80\\x9cHerâ\\x80\\x9d (2013)<br>\\n</b>',\n",
       " '<b>Spike Jonze</b>',\n",
       " '<b>56.</b>',\n",
       " '<b>â\\x80\\x9cThe Riderâ\\x80\\x9d </b>',\n",
       " '<b>55. â\\x80\\x9cThe Grand Budapest Hotel</b>',\n",
       " '<b>54.</b>',\n",
       " '<b>Selma</b>',\n",
       " '<b>53. </b>',\n",
       " '<b>Roma</b>',\n",
       " '<b> 52. </b>',\n",
       " '<b>Columbus</b>',\n",
       " '<b>51. </b>',\n",
       " '<b>Elle</b>',\n",
       " '<b></b>',\n",
       " '<b>Foxcatcher</b>',\n",
       " '<b>49. </b>',\n",
       " '<b>Killing Them Softly</b>',\n",
       " '<b>48. </b>',\n",
       " '<b>Enemy</b>',\n",
       " '<b>47. â\\x80\\x9cThe Florida Projectâ\\x80\\x9d </b>',\n",
       " '<b>46. â\\x80\\x9cGood Timeâ\\x80\\x9d (2017)<br>\\n</b>',\n",
       " '<b>Josh </b>',\n",
       " '<b>45. â\\x80\\x9cWildlifeâ\\x80\\x9d </b>',\n",
       " '<b>44. </b>',\n",
       " '<b>Before Midnight</b>',\n",
       " '<b>43. â\\x80\\x9c12 Years a Slave</b>',\n",
       " '<b>42.</b>',\n",
       " '<b>Amour</b>',\n",
       " '<b>41. â\\x80\\x9cAnnihilationâ\\x80\\x9d </b>',\n",
       " '<b></b>',\n",
       " '<b>â\\x80\\x9cThe Assassinâ\\x80\\x9d </b>',\n",
       " '<b>39.</b>',\n",
       " '<b>The Handmaiden</b>',\n",
       " '<b>38.</b>',\n",
       " '<b>Two Days, One Night</b>',\n",
       " '<b>37. â\\x80\\x9cCertified Copyâ\\x80\\x9d </b>',\n",
       " '<b>36.</b>',\n",
       " '<b>Holy Motors</b>',\n",
       " '<b>35. </b>',\n",
       " '<b>If Beale Street Could Talk</b>',\n",
       " '<b>34. â\\x80\\x9cParasiteâ\\x80\\x9d </b>',\n",
       " '<b>33. â\\x80\\x9cAmerican Honeyâ\\x80\\x9d </b>',\n",
       " '<b>32. â\\x80\\x9cFirst Manâ\\x80\\x9d </b>',\n",
       " '<b>31.</b>',\n",
       " '<b>High Life</b>',\n",
       " '<b></b>',\n",
       " '<b>Only Lovers Left Alive</b>',\n",
       " '<b>29. </b>',\n",
       " '<b>Jackie</b>',\n",
       " '<b>28. </b>',\n",
       " '<b>Frances Haâ\\x80\\x9d (2013)<br>\\n</b>',\n",
       " '<b>27. â\\x80\\x9cThe Lobsterâ\\x80\\x9d </b>',\n",
       " '<b>26.</b>',\n",
       " '<b>â\\x80\\x9cManchester by the Seaâ\\x80\\x9d </b>',\n",
       " '<b>25.</b>',\n",
       " '<b>Lil Quinquin</b>',\n",
       " '<b>â\\x80\\x9cPain &amp; Gloryâ\\x80\\x9d </b>',\n",
       " '<b>22. </b>',\n",
       " '<b>â\\x80\\x9cStories We Tellâ\\x80\\x9d<br>\\n</b>',\n",
       " '<b>21.</b>',\n",
       " '<b>â\\x80\\x9cArrivalâ\\x80\\x9d </b>',\n",
       " '<b></b>',\n",
       " '<b>â\\x80\\x9cBirds of Passageâ\\x80\\x9d </b>',\n",
       " '<b> 19.</b>',\n",
       " '<b>45 Years</b>',\n",
       " '<b>18. â\\x80\\x9cA Prophetâ\\x80\\x9d (2010)<br>\\n</b>',\n",
       " '<b>The Sisters Brothers</b>',\n",
       " '<b>17. â\\x80\\x9cFirst Reformedâ\\x80\\x9d </b>',\n",
       " '<b>16. </b>',\n",
       " '<b>Phantom Thread</b>',\n",
       " '<b>15.</b>',\n",
       " '<b>â\\x80\\x9cMad Max: Fury Roadâ\\x80\\x9d (2015)<br>\\n</b>',\n",
       " '<b>14.</b>',\n",
       " '<b>20th Century Women</b>',\n",
       " '<b>13.</b>',\n",
       " '<b>Carol</b>',\n",
       " '<b>12. â\\x80\\x9cYou Were Never Really Hereâ\\x80\\x9d </b>',\n",
       " '<b>11.</b>',\n",
       " '<b>Get Out</b>',\n",
       " '<b></b>',\n",
       " '<b>Maren Adeâ\\x80\\x99s </b>',\n",
       " '<b>9.</b>',\n",
       " '<b>â\\x80\\x9cUnder the Skinâ\\x80\\x9d </b>',\n",
       " '<b>8. </b>',\n",
       " '<b>Dogtooth</b>',\n",
       " '<b>7. â\\x80\\x9cInside Llewyn Davis</b>',\n",
       " '<b><br>\\n</b>',\n",
       " '<b>6.</b>',\n",
       " '<b>â\\x80\\x9cMoonlight</b>',\n",
       " '<b>5.</b>',\n",
       " '<b>Tree Of Life</b>',\n",
       " '<b>â\\x80\\x9cThe Masterâ\\x80\\x9d </b>',\n",
       " '<b>3.</b>',\n",
       " '<b>â\\x80\\x9cThe Act of Killingâ\\x80\\x9d </b>',\n",
       " '<b>2.</b>',\n",
       " '<b>A Separation</b>',\n",
       " '<b>â\\x80\\x9cBurning</b>']"
      ]
     },
     "execution_count": 437,
     "metadata": {},
     "output_type": "execute_result"
    }
   ],
   "source": [
    "movies = []\n",
    "tag = \"b:nth-child(2) , b:nth-child(1)\"\n",
    "for url in URLs:\n",
    "    for item in parser(url,tag):\n",
    "        movies.append(item)\n",
    "movies"
   ]
  },
  {
   "cell_type": "code",
   "execution_count": 468,
   "metadata": {
    "ExecuteTime": {
     "end_time": "2019-12-24T18:10:06.933792Z",
     "start_time": "2019-12-24T18:10:06.600713Z"
    }
   },
   "outputs": [
    {
     "data": {
      "text/plain": [
       "[' â\\x80\\x9cMadelineâ\\x80\\x99s Madelineâ\\x80\\x9d </b>',\n",
       " ' â\\x80\\x9cPrivate Lifeâ\\x80\\x9d </b>',\n",
       " '</b> â\\x80\\x9c<b>Martha Marcy May Marlene</b>â\\x80\\x9d ',\n",
       " '/b>. â\\x80\\x9c<b>Meekâ\\x80\\x99s Cutoff</b>â\\x80\\x9d ',\n",
       " ' </b>â\\x80\\x9c<b>What We Do In The Shadows</b>â\\x80\\x9d ',\n",
       " ' </b>â\\x80\\x9c<b>Mother!</b>â\\x80\\x9d ',\n",
       " '</strong> â\\x80\\x9c<b>The Wailing</b>â\\x80\\x9d ',\n",
       " '</strong> <b>â\\x80\\x9cMargaretâ\\x80\\x9d </b>',\n",
       " ' </strong>â\\x80\\x9c<b>Inceptionâ\\x80\\x9d </b>',\n",
       " '</strong> â\\x80\\x9c<b>Zero Dark Thirty</b>â\\x80\\x9d ']"
      ]
     },
     "execution_count": 468,
     "metadata": {},
     "output_type": "execute_result"
    }
   ],
   "source": [
    "movies = []\n",
    "url = \"https://theplaylist.net/best-100-films-decade-2010s-20191202/\"\n",
    "tag = \"p\"\n",
    "movies = parser(url, tag)\n",
    "movies\n",
    "find_movies(movies, '\\d+.(.*?)\\(\\d+\\)')"
   ]
  },
  {
   "cell_type": "markdown",
   "metadata": {},
   "source": [
    "With some trial and error, I decided to just extract entire paragraphs and then use regex to fin dthe titles. This approach proved successful."
   ]
  },
  {
   "cell_type": "code",
   "execution_count": 492,
   "metadata": {
    "ExecuteTime": {
     "end_time": "2019-12-24T18:21:01.385286Z",
     "start_time": "2019-12-24T18:20:58.186688Z"
    }
   },
   "outputs": [],
   "source": [
    "movies = []\n",
    "tag = \"p\"\n",
    "for url in URLs:\n",
    "    page_list = parser(url,tag)\n",
    "    movies.append(find_movies(page_list, '\\d+.(.*?)\\(\\d+\\)'))\n"
   ]
  },
  {
   "cell_type": "code",
   "execution_count": 493,
   "metadata": {
    "ExecuteTime": {
     "end_time": "2019-12-24T18:21:02.373868Z",
     "start_time": "2019-12-24T18:21:02.363734Z"
    }
   },
   "outputs": [
    {
     "data": {
      "text/plain": [
       "97"
      ]
     },
     "execution_count": 493,
     "metadata": {},
     "output_type": "execute_result"
    }
   ],
   "source": [
    "flat_sol = [item for sublist in movies for item in sublist]\n",
    "len(flat_sol)"
   ]
  },
  {
   "cell_type": "code",
   "execution_count": 497,
   "metadata": {
    "ExecuteTime": {
     "end_time": "2019-12-24T18:21:36.872776Z",
     "start_time": "2019-12-24T18:21:36.861527Z"
    }
   },
   "outputs": [
    {
     "data": {
      "text/plain": [
       "[' Madelines Madeline b',\n",
       " ' Private Life b',\n",
       " 'b bMartha Marcy May Marleneb ',\n",
       " 'b bMeeks Cutoffb ',\n",
       " ' bbWhat We Do In The Shadowsb ',\n",
       " ' bbMotherb ',\n",
       " 'strong bThe Wailingb ',\n",
       " 'strong bMargaret b',\n",
       " ' strongbInception b',\n",
       " 'strong bZero Dark Thirtyb ',\n",
       " 'strong bShameb ',\n",
       " 'strong bThe Huntb ',\n",
       " 'strong bIdab ',\n",
       " ' strongbThe Lighthouseb ',\n",
       " ' strongbSpotlightb ',\n",
       " 'b bNo ',\n",
       " 'strong bGirlhood b',\n",
       " 'strong bLeviathan b',\n",
       " ' strongbBoyhood b',\n",
       " ' bForce Majeureb ',\n",
       " ' strongbThe Duke of Burgundy b',\n",
       " ' strongbThe Immigrantb ',\n",
       " 'strong bThe Social Network b',\n",
       " 'strong bThe Wolf of Wall Streetb ',\n",
       " 'strong bZama b',\n",
       " 'strong bWeekendb ',\n",
       " ' White Material ',\n",
       " 'strong bShopliftersb ',\n",
       " ' bThe Souvenirb ',\n",
       " 'strong bSuspiriab ',\n",
       " 'strong bTangerine b',\n",
       " 'b bUpstream Colorb ',\n",
       " ' OJ: Made in America ',\n",
       " ' bstrongBlue Valentinestrong ',\n",
       " 'b bPortrait Of A Lady On Fireb ',\n",
       " ' Tabu b',\n",
       " ' bbUncle Boonmee Who Can Recall His Past Livesb ',\n",
       " 'b bA Ghost Storyb ',\n",
       " ' bCall Me By Your Nameb ',\n",
       " 'b bOnce Upon A Time In Anatolia b',\n",
       " ' bbPhoenixb ',\n",
       " ' Her ',\n",
       " 'b bThe Rider b',\n",
       " ' The Grand Budapest Hotelb ',\n",
       " 'b bSelmab ',\n",
       " ' bbRomab ',\n",
       " ' bbColumbusb ',\n",
       " ' bbElleb ',\n",
       " ' bFoxcatcherb ',\n",
       " ' bbKilling Them Softlyb ',\n",
       " ' bbEnemyb ',\n",
       " ' The Florida Project b',\n",
       " ' Good Time ',\n",
       " ' Wildlife b',\n",
       " ' bbBefore Midnightb ',\n",
       " '  Years a Slaveb ',\n",
       " 'b bAmourb ',\n",
       " ' Annihilation b',\n",
       " ' bThe Assassin b',\n",
       " 'b bThe Handmaidenb ',\n",
       " 'b bTwo Days One Nightb ',\n",
       " ' Certified Copy b',\n",
       " 'b bHoly Motorsb ',\n",
       " ' bbIf Beale Street Could Talkb ',\n",
       " ' Parasite b',\n",
       " ' American Honey b',\n",
       " ' First Man b',\n",
       " 'b bHigh Lifeb ',\n",
       " ' bOnly Lovers Left Aliveb ',\n",
       " ' bbJackieb ',\n",
       " ' bbFrances Ha ',\n",
       " ' The Lobster b',\n",
       " 'b bManchester by the Sea b',\n",
       " 'b bLil Quinquinb ',\n",
       " 'strong bPain amp Glory b',\n",
       " 'strong strongThe Comedystrong ',\n",
       " 'b bArrival b',\n",
       " ' bBirds of Passage b',\n",
       " 'b b Yearsb ',\n",
       " ' A Prophet ',\n",
       " ' First Reformed b',\n",
       " ' bbPhantom Threadb ',\n",
       " 'b bMad Max: Fury Road ',\n",
       " 'b bth Century Womenb ',\n",
       " 'b bCarolb ',\n",
       " ' You Were Never Really Here b',\n",
       " 'b bGet Outb ',\n",
       " ' Toni Erdmann ',\n",
       " 'b bUnder the Skin b',\n",
       " ' bbDogtoothb ',\n",
       " ' Inside Llewyn Davisb ',\n",
       " 'b bMoonlightb ',\n",
       " 'b bTree Of Lifeb ',\n",
       " ' bThe Master b',\n",
       " 'b bThe Act of Killing b',\n",
       " 'b bA Separationb ',\n",
       " ' bBurningb']"
      ]
     },
     "execution_count": 497,
     "metadata": {},
     "output_type": "execute_result"
    }
   ],
   "source": [
    "remove_non_chars(flat_sol)"
   ]
  },
  {
   "cell_type": "code",
   "execution_count": 479,
   "metadata": {
    "ExecuteTime": {
     "end_time": "2019-12-24T18:15:16.655792Z",
     "start_time": "2019-12-24T18:15:13.343327Z"
    }
   },
   "outputs": [
    {
     "name": "stdout",
     "output_type": "stream",
     "text": [
      "10\n",
      "9\n",
      "9\n",
      "10\n",
      "10\n",
      "10\n",
      "10\n",
      "9\n",
      "10\n",
      "10\n"
     ]
    }
   ],
   "source": [
    "movies = []\n",
    "tag = \"p\"\n",
    "for url in URLs:\n",
    "    page_list = parser(url,tag)\n",
    "    print(len(find_movies(page_list, '\\d+.(.*?)\\(\\d+\\)')))\n",
    "    movies.append(find_movies(page_list, '\\d+.(.*?)\\(\\d+\\)'))"
   ]
  },
  {
   "cell_type": "markdown",
   "metadata": {},
   "source": [
    "The 3 missing movies are from page 2, 3 and 8! I examined those lists manually and found that each of those pages had a movie missing a data and hence the regex wasn't picking it up. To fix this I just will add them manually.\n",
    "\n",
    "\"82. Stranger by The Lake\"\n",
    "\n",
    "\"79. Eden\"\n",
    "\n",
    "\"22. Stories We Tell\""
   ]
  },
  {
   "cell_type": "markdown",
   "metadata": {},
   "source": [
    "<h2> Rotten Tomatoes </h2>"
   ]
  },
  {
   "cell_type": "code",
   "execution_count": 483,
   "metadata": {
    "ExecuteTime": {
     "end_time": "2019-12-24T18:19:53.818976Z",
     "start_time": "2019-12-24T18:19:53.082321Z"
    },
    "collapsed": true
   },
   "outputs": [],
   "source": [
    "link = \"https://editorial.rottentomatoes.com/guide/the-200-best-movies-of-the-2010s/\"\n",
    "tag = '.article_movie_title a'\n",
    "movies = parser(link, tag)"
   ]
  },
  {
   "cell_type": "code",
   "execution_count": 484,
   "metadata": {
    "ExecuteTime": {
     "end_time": "2019-12-24T18:19:53.925073Z",
     "start_time": "2019-12-24T18:19:53.821850Z"
    },
    "scrolled": false
   },
   "outputs": [
    {
     "data": {
      "text/plain": [
       "['12 Years a Slave',\n",
       " '20 Feet From Stardom',\n",
       " '45 Years',\n",
       " 'All Is Lost',\n",
       " 'Amazing Grace',\n",
       " 'American Hustle',\n",
       " 'Amy',\n",
       " 'Anomalisa',\n",
       " 'Ant-Man and the Wasp',\n",
       " 'Apollo 11',\n",
       " 'Argo',\n",
       " 'Arrival',\n",
       " 'Ash Is Purest White',\n",
       " 'The Artist',\n",
       " 'Avengers: Endgame',\n",
       " 'Avengers: Infinity War',\n",
       " 'The Babadook',\n",
       " 'Baby Driver',\n",
       " 'A Beautiful Day in the Neighborhood',\n",
       " 'Before Midnight',\n",
       " 'The Big Sick',\n",
       " 'Birdman',\n",
       " 'Birds of Passage (Pájaros de verano)',\n",
       " 'Black Panther',\n",
       " 'Blackfish',\n",
       " 'BlacKkKlansman',\n",
       " 'Blade Runner 2049',\n",
       " 'Booksmart',\n",
       " 'Boyhood',\n",
       " 'BPM (Beats Per Minute) (120 battements par minute)',\n",
       " 'Bridge of Spies',\n",
       " 'Brooklyn',\n",
       " 'Bumblebee',\n",
       " 'Burning (Beoning)',\n",
       " 'Call Me by Your Name',\n",
       " 'Cameraperson',\n",
       " 'Can You Ever Forgive Me?',\n",
       " 'Captain America: Civil War',\n",
       " 'Captain Phillips',\n",
       " 'Carol',\n",
       " 'Coco',\n",
       " 'Crazy Rich Asians',\n",
       " 'Creed',\n",
       " 'Dallas Buyers Club',\n",
       " 'Dawn Of The Planet Of The Apes',\n",
       " 'The Death of Stalin',\n",
       " 'The Disaster Artist',\n",
       " 'Doctor Strange',\n",
       " 'Dolemite Is My Name',\n",
       " \"Don't Think Twice\",\n",
       " 'Dunkirk',\n",
       " 'Eighth Grade',\n",
       " 'Ex Machina',\n",
       " 'Eye In The Sky',\n",
       " 'Faces Places (Visages, villages)',\n",
       " 'A Fantastic Woman (Una mujer fantástica)',\n",
       " 'The Farewell',\n",
       " 'The Favourite',\n",
       " 'Fighting with My Family',\n",
       " 'Finding Dory',\n",
       " 'First Man',\n",
       " 'First Reformed',\n",
       " 'The Florida Project',\n",
       " 'Ford v Ferrari',\n",
       " 'Free Solo',\n",
       " 'Get Out',\n",
       " 'A Ghost Story',\n",
       " 'Gloria',\n",
       " 'The Grand Budapest Hotel',\n",
       " 'Gravity',\n",
       " 'Guardians of the Galaxy',\n",
       " 'The Guilty (Den skyldige)',\n",
       " 'The Handmaiden (Ah-ga-ssi)',\n",
       " 'Harry Potter and the Deathly Hallows - Part 2',\n",
       " 'The Hate U Give',\n",
       " 'Hell or High Water',\n",
       " 'Her',\n",
       " 'Hereditary',\n",
       " 'Hidden Figures',\n",
       " 'Honeyland',\n",
       " 'How to Train Your Dragon',\n",
       " 'Hunt for the Wilderpeople',\n",
       " 'Hustlers',\n",
       " 'I Am Not Your Negro',\n",
       " 'I, Tonya',\n",
       " 'If Beale Street Could Talk',\n",
       " 'Incredibles 2',\n",
       " 'Inside Llewyn Davis',\n",
       " 'Inside Out',\n",
       " 'The Irishman',\n",
       " 'Isle of Dogs',\n",
       " 'It Follows',\n",
       " 'John Wick: Chapter 3 - Parabellum',\n",
       " 'The Jungle Book',\n",
       " 'Kedi',\n",
       " \"The King's Speech\",\n",
       " 'Knives Out',\n",
       " 'Kubo and the Two Strings',\n",
       " 'La La Land',\n",
       " 'Lady Bird',\n",
       " 'Leave No Trace',\n",
       " 'The LEGO Movie',\n",
       " 'Leviathan',\n",
       " 'Life Itself',\n",
       " 'The Lighthouse',\n",
       " 'Live Die Repeat: Edge of Tomorrow',\n",
       " 'Logan',\n",
       " 'Logan Lucky',\n",
       " 'Looper',\n",
       " 'Love & Friendship',\n",
       " 'Lucky',\n",
       " 'Mad Max: Fury Road',\n",
       " 'Maiden',\n",
       " 'Manchester by the Sea',\n",
       " 'Marriage Story',\n",
       " 'The Martian',\n",
       " \"Marvel's The Avengers\",\n",
       " 'McQueen',\n",
       " 'Minding the Gap',\n",
       " 'Mission: Impossible - Fallout',\n",
       " 'Mission: Impossible Rogue Nation',\n",
       " 'Moana',\n",
       " 'Moonlight',\n",
       " 'Mr. Turner',\n",
       " 'Mud',\n",
       " 'Mudbound',\n",
       " 'Mustang',\n",
       " 'My Life as a Zucchini (Ma vie de courgette)',\n",
       " 'The Nice Guys',\n",
       " 'Nightcrawler',\n",
       " 'The Old Man & the Gun',\n",
       " 'Once Upon a Time In Hollywood',\n",
       " 'Paddington',\n",
       " 'Paddington 2',\n",
       " 'Pain and Glory (Dolor y gloria)',\n",
       " 'Parasite (Gisaengchung)',\n",
       " 'Paterson',\n",
       " 'The Peanut Butter Falcon',\n",
       " 'Phantom Thread',\n",
       " 'Phoenix',\n",
       " 'Portrait of a Lady on Fire (Portrait de la jeune fille en feu)',\n",
       " 'The Post',\n",
       " 'A Quiet Place',\n",
       " 'Rocketman',\n",
       " 'Roma',\n",
       " 'Room',\n",
       " 'The Rider',\n",
       " 'The Salesman (Forushande)',\n",
       " 'Searching',\n",
       " 'Selma',\n",
       " 'A Separation',\n",
       " 'The Shape of Water',\n",
       " 'Shaun the Sheep Movie',\n",
       " 'Shazam!',\n",
       " 'Shoplifters (Manbiki kazoku)',\n",
       " 'Short Term 12',\n",
       " 'Sicario',\n",
       " 'Sing Street',\n",
       " 'Skyfall',\n",
       " 'Snowpiercer',\n",
       " 'The Social Network',\n",
       " 'Son of Saul',\n",
       " 'Sorry to Bother You',\n",
       " 'Spider-Man: Far From Home',\n",
       " 'Spider-Man: Homecoming',\n",
       " 'Spider-Man: Into the Spider-Verse',\n",
       " 'Spotlight',\n",
       " 'Spy',\n",
       " 'Stan & Ollie',\n",
       " 'A Star Is Born',\n",
       " 'Star Wars: Episode VII - The Force Awakens',\n",
       " 'Star Wars: The Last Jedi',\n",
       " 'Starred Up',\n",
       " 'Summer 1993 (Estiu 1993)',\n",
       " 'The Tale of the Princess Kaguya',\n",
       " 'They Shall Not Grow Old',\n",
       " \"Things to Come (L'avenir)\",\n",
       " 'Thor: Ragnarok',\n",
       " 'Three Billboards Outside Ebbing, Missouri',\n",
       " 'Three Identical Strangers',\n",
       " 'Tower',\n",
       " 'Toy Story 3',\n",
       " 'Toy Story 4',\n",
       " 'True Grit',\n",
       " 'Two Days, One Night',\n",
       " 'Us',\n",
       " 'Wadjda',\n",
       " 'War for the Planet of the Apes',\n",
       " 'Weiner',\n",
       " 'What We Do In The Shadows',\n",
       " 'Whiplash',\n",
       " 'Widows',\n",
       " 'The Witch',\n",
       " 'Wildlife',\n",
       " \"Won't You Be My Neighbor?\",\n",
       " 'Wonder Woman',\n",
       " 'X-Men: Days of Future Past',\n",
       " 'Your Name. (Kimi No Na Wa.)',\n",
       " 'Zero Dark Thirty',\n",
       " 'Zootopia']"
      ]
     },
     "execution_count": 484,
     "metadata": {},
     "output_type": "execute_result"
    }
   ],
   "source": [
    "remove_html(movies)"
   ]
  },
  {
   "cell_type": "markdown",
   "metadata": {},
   "source": [
    "<h2>SlashFilm</h2>"
   ]
  },
  {
   "cell_type": "code",
   "execution_count": 200,
   "metadata": {
    "ExecuteTime": {
     "end_time": "2019-12-23T20:40:36.319788Z",
     "start_time": "2019-12-23T20:40:35.973490Z"
    },
    "collapsed": true
   },
   "outputs": [],
   "source": [
    "link = \"https://www.slashfilm.com/jacob-halls-top-10-movies-of-the-decade/\"\n",
    "tag = \".s1\"\n",
    "movies = remove_html(parser(link, tag))"
   ]
  },
  {
   "cell_type": "code",
   "execution_count": 201,
   "metadata": {
    "ExecuteTime": {
     "end_time": "2019-12-23T20:40:39.831299Z",
     "start_time": "2019-12-23T20:40:39.780082Z"
    }
   },
   "outputs": [
    {
     "data": {
      "text/plain": [
       "['10. The Cabin in the Woods',\n",
       " '9. The Grand Budapest Hotel',\n",
       " '8. Green Room',\n",
       " '7. Arrival',\n",
       " '6. Star Wars: The Last Jedi',\n",
       " '5. Spider-Man: Into the Spider-Verse',\n",
       " '4. Parasite',\n",
       " '3. Get Out',\n",
       " '2. Mad Max: Fury Road',\n",
       " '1. Inside Llewyn Davis']"
      ]
     },
     "execution_count": 201,
     "metadata": {},
     "output_type": "execute_result"
    }
   ],
   "source": [
    "movies"
   ]
  },
  {
   "cell_type": "markdown",
   "metadata": {},
   "source": [
    "<h2>GQ</h2>"
   ]
  },
  {
   "cell_type": "code",
   "execution_count": 202,
   "metadata": {
    "ExecuteTime": {
     "end_time": "2019-12-23T20:46:45.281018Z",
     "start_time": "2019-12-23T20:46:44.680680Z"
    },
    "collapsed": true
   },
   "outputs": [],
   "source": [
    "link = \"https://www.gq.com/story/the-best-movies-of-the-2010s\"\n",
    "tag = \"h2\"\n",
    "movies = remove_html(parser(link, tag))"
   ]
  },
  {
   "cell_type": "code",
   "execution_count": 203,
   "metadata": {
    "ExecuteTime": {
     "end_time": "2019-12-23T20:46:47.272464Z",
     "start_time": "2019-12-23T20:46:47.257141Z"
    }
   },
   "outputs": [
    {
     "data": {
      "text/plain": [
       "['The Social Network',\n",
       " 'The Handmaiden',\n",
       " 'Phantom Thread',\n",
       " 'Bridesmaids',\n",
       " 'Arrival',\n",
       " 'Lady Bird',\n",
       " 'Spider-Man: Into the Spider-Verse',\n",
       " 'Moonlight',\n",
       " 'Call Me By Your Name',\n",
       " 'Parasite',\n",
       " 'Uncut Gems',\n",
       " 'First Reformed',\n",
       " 'Inside Llewyn Davis',\n",
       " 'Widows',\n",
       " 'The Favourite',\n",
       " 'Toni Erdmann',\n",
       " 'Mad Max: Fury Road',\n",
       " 'Minding the Gap',\n",
       " 'Black Panther',\n",
       " 'Shirkers',\n",
       " 'The Wolf of Wall Street',\n",
       " 'Inception',\n",
       " 'Hereditary',\n",
       " 'Coco',\n",
       " 'Get Out']"
      ]
     },
     "execution_count": 203,
     "metadata": {},
     "output_type": "execute_result"
    }
   ],
   "source": [
    "movies"
   ]
  },
  {
   "cell_type": "markdown",
   "metadata": {},
   "source": [
    "<h2> Hollywood Reporter </h2>"
   ]
  },
  {
   "cell_type": "code",
   "execution_count": 499,
   "metadata": {
    "ExecuteTime": {
     "end_time": "2019-12-24T18:38:50.572352Z",
     "start_time": "2019-12-24T18:38:49.847866Z"
    },
    "collapsed": true
   },
   "outputs": [],
   "source": [
    "link = 'https://www.hollywoodreporter.com/lists/10-best-films-decade-1260056/item/1-carlos-2010-10-best-films-decade-1260057'\n",
    "tag = '.list-item__title'\n",
    "movies = remove_html(parser(link, tag))"
   ]
  },
  {
   "cell_type": "code",
   "execution_count": 500,
   "metadata": {
    "ExecuteTime": {
     "end_time": "2019-12-24T18:38:50.586064Z",
     "start_time": "2019-12-24T18:38:50.574765Z"
    }
   },
   "outputs": [
    {
     "data": {
      "text/plain": [
       "[' Carlos ',\n",
       " ' The Social Network ',\n",
       " ' Inside Llewyn Davis ',\n",
       " ' Only Lovers Left Alive ',\n",
       " ' The Handmaiden ',\n",
       " ' Leviathan ',\n",
       " ' Once Upon a Time in Hollywood ',\n",
       " ' Brooklyn  ',\n",
       " ' Mad Max: Fury Road ',\n",
       " ' The Gatekeepers ']"
      ]
     },
     "execution_count": 500,
     "metadata": {},
     "output_type": "execute_result"
    }
   ],
   "source": [
    "remove_non_chars(movies)"
   ]
  },
  {
   "cell_type": "markdown",
   "metadata": {},
   "source": [
    "<h2> Redbook </h2>"
   ]
  },
  {
   "cell_type": "code",
   "execution_count": 501,
   "metadata": {
    "ExecuteTime": {
     "end_time": "2019-12-24T18:39:00.611864Z",
     "start_time": "2019-12-24T18:39:00.194574Z"
    },
    "collapsed": true
   },
   "outputs": [],
   "source": [
    "link = 'https://www.redbookmag.com/life/g30084079/best-movies-of-the-decade/'\n",
    "tag = '.slideshow-slide-hed'\n",
    "movies = remove_html(parser(link, tag))"
   ]
  },
  {
   "cell_type": "code",
   "execution_count": 502,
   "metadata": {
    "ExecuteTime": {
     "end_time": "2019-12-24T18:39:00.627615Z",
     "start_time": "2019-12-24T18:39:00.614280Z"
    }
   },
   "outputs": [
    {
     "data": {
      "text/plain": [
       "['Get Out ',\n",
       " 'Frozen ',\n",
       " 'The Avengers ',\n",
       " 'Mad Max: Fury Road ',\n",
       " 'Call Me By Your Name ',\n",
       " 'Bridesmaids ',\n",
       " 'Spotlight ',\n",
       " 'Lady Bird ',\n",
       " 'Moonlight ',\n",
       " 'Guardians of the Galaxy ',\n",
       " 'The Social Network ',\n",
       " 'La La Land ',\n",
       " 'Roma ',\n",
       " 'Wonder Woman ',\n",
       " 'Inception ',\n",
       " 'The Wolf Of Wall Street ',\n",
       " 'Black Panther ',\n",
       " 'The Favourite ',\n",
       " 'Star Wars: The Force Awakens ',\n",
       " 'Boyhood ']"
      ]
     },
     "execution_count": 502,
     "metadata": {},
     "output_type": "execute_result"
    }
   ],
   "source": [
    "for idx, movie in enumerate(movies):\n",
    "    movies[idx] = movie.strip()\n",
    "remove_non_chars(movies)"
   ]
  },
  {
   "cell_type": "markdown",
   "metadata": {},
   "source": [
    "<h2> Vanity Fair </h2>"
   ]
  },
  {
   "cell_type": "code",
   "execution_count": 503,
   "metadata": {
    "ExecuteTime": {
     "end_time": "2019-12-24T18:39:03.328027Z",
     "start_time": "2019-12-24T18:39:02.475687Z"
    },
    "collapsed": true
   },
   "outputs": [],
   "source": [
    "link = \"https://www.vanityfair.com/hollywood/2019/11/best-movies-decade-2010s-collins\"\n",
    "tag = \"h2 em\"\n",
    "movies = remove_html(parser(link, tag))"
   ]
  },
  {
   "cell_type": "code",
   "execution_count": 504,
   "metadata": {
    "ExecuteTime": {
     "end_time": "2019-12-24T18:39:03.674501Z",
     "start_time": "2019-12-24T18:39:03.663179Z"
    }
   },
   "outputs": [
    {
     "data": {
      "text/plain": [
       "['The Act of Killing: Director’s Cut',\n",
       " 'Carol',\n",
       " 'The Day He Arrives',\n",
       " 'Did You Wonder Who Fired the Gun?',\n",
       " 'Drug War',\n",
       " 'Field Niggas',\n",
       " 'Frances Ha',\n",
       " 'The Future',\n",
       " 'Gone Girl',\n",
       " 'Happy Hour',\n",
       " 'Heaven Knows What',\n",
       " 'In Jackson Heights',\n",
       " 'Inside Llewyn Davis',\n",
       " 'It Felt Like Love',\n",
       " 'Leviathan',\n",
       " 'Like Someone in Love',\n",
       " 'Mad Max: Fury Road',\n",
       " 'Margaret',\n",
       " 'The Master',\n",
       " 'The Missing Picture',\n",
       " 'Moonlight',\n",
       " 'Sunset Song',\n",
       " 'Timbuktu',\n",
       " 'A Touch of Sin',\n",
       " 'The Tree of Life',\n",
       " 'Universal Soldier: Day of Reckoning',\n",
       " 'Unstoppable',\n",
       " 'Upstream Color',\n",
       " 'The Wind Rises',\n",
       " 'The Wolf of Wall Street']"
      ]
     },
     "execution_count": 504,
     "metadata": {},
     "output_type": "execute_result"
    }
   ],
   "source": [
    "movies"
   ]
  },
  {
   "cell_type": "markdown",
   "metadata": {},
   "source": [
    "<h2> Time </h2>"
   ]
  },
  {
   "cell_type": "code",
   "execution_count": 238,
   "metadata": {
    "ExecuteTime": {
     "end_time": "2019-12-23T21:25:04.581212Z",
     "start_time": "2019-12-23T21:25:04.298777Z"
    },
    "collapsed": true
   },
   "outputs": [],
   "source": [
    "link = \"https://time.com/5725149/best-movies-2010s-decade/\"\n",
    "tag = \"h2 em\"\n",
    "movies = remove_html(parser(link, tag))"
   ]
  },
  {
   "cell_type": "code",
   "execution_count": 240,
   "metadata": {
    "ExecuteTime": {
     "end_time": "2019-12-23T21:25:31.677752Z",
     "start_time": "2019-12-23T21:25:31.660608Z"
    }
   },
   "outputs": [
    {
     "data": {
      "text/plain": [
       "['Somewhere',\n",
       " 'Cave of Forgotten Dreams',\n",
       " 'Melancholia',\n",
       " 'Before Midnight',\n",
       " 'Phoenix',\n",
       " 'John Wick',\n",
       " 'Selma',\n",
       " 'Moonlight',\n",
       " 'The Lost City of Z',\n",
       " 'Roma']"
      ]
     },
     "execution_count": 240,
     "metadata": {},
     "output_type": "execute_result"
    }
   ],
   "source": [
    "movies[:-2]"
   ]
  },
  {
   "cell_type": "markdown",
   "metadata": {},
   "source": [
    "<h2> Entertainment.ie </h2>"
   ]
  },
  {
   "cell_type": "code",
   "execution_count": 507,
   "metadata": {
    "ExecuteTime": {
     "end_time": "2019-12-24T18:40:34.230688Z",
     "start_time": "2019-12-24T18:40:01.725400Z"
    }
   },
   "outputs": [
    {
     "data": {
      "text/plain": [
       "[' Hell Or High Water  ',\n",
       " ' The Guard  ',\n",
       " ' The Cabin In The Woods  ',\n",
       " ' Mission: Impossible  Fallout  ',\n",
       " ' Whiplash  ',\n",
       " ' Avengers: Endgame  ',\n",
       " ' The Grand Budapest Hotel  ',\n",
       " ' John Wick  ',\n",
       " ' Shame  ',\n",
       " ' Spotlight     Ireland',\n",
       " ' SpiderMan: Into The SpiderVerse  ',\n",
       " ' Inception  ',\n",
       " 'Lady Bird  ',\n",
       " ' Ad Astra  ',\n",
       " ' Moonlight  ',\n",
       " 'The Death of Stalin  ',\n",
       " ' The Social Network  ',\n",
       " ' Mad Max: Fury Road  ',\n",
       " ' Get Out  ',\n",
       " ' Boyhood  ']"
      ]
     },
     "execution_count": 507,
     "metadata": {},
     "output_type": "execute_result"
    }
   ],
   "source": [
    "link = \"https://entertainment.ie/cinema/movie-news/20-best-movies-of-the-decade-429849/\"\n",
    "tag = \"p strong\"\n",
    "movies = remove_html(parser(link, tag))\n",
    "remove_non_chars(movies)"
   ]
  },
  {
   "cell_type": "markdown",
   "metadata": {},
   "source": [
    "<h2> CNET </h2>"
   ]
  },
  {
   "cell_type": "code",
   "execution_count": 509,
   "metadata": {
    "ExecuteTime": {
     "end_time": "2019-12-24T18:40:50.767484Z",
     "start_time": "2019-12-24T18:40:50.171277Z"
    }
   },
   "outputs": [
    {
     "data": {
      "text/plain": [
       "['  Mad Max: Fury Road  ',\n",
       " '  SpiderMan: Into the SpiderVerse  ',\n",
       " '  Boyhood  ',\n",
       " '  Get Out  ',\n",
       " '  Lady Bird  ',\n",
       " '  The Favourite  ',\n",
       " '  Roma  ',\n",
       " '  Black Panther  ',\n",
       " '  Ex Machina  ',\n",
       " '  The Master  ',\n",
       " '  Her  ',\n",
       " '  Moonlight  ',\n",
       " '  The Social Network  ',\n",
       " '  Drive  ',\n",
       " '  The Shape of Water  ',\n",
       " '  Avengers: Infinity War  ',\n",
       " '  Inception  ',\n",
       " '  Birdman  ',\n",
       " '  Spotlight  ',\n",
       " '  Toy Story   ',\n",
       " '  Hereditary  ',\n",
       " '  What We Do In The Shadows  ',\n",
       " '   Years a Slave  ',\n",
       " '  Whiplash  ',\n",
       " '  Annihilation  ',\n",
       " '  Call Me By Your Name  ',\n",
       " '  The Witch  ',\n",
       " '  Hunt for the Wilderpeople  ',\n",
       " '  Star Wars: The Force Awakens  ',\n",
       " '  Wonder Woman  ',\n",
       " 'Discuss: The  best films of the decade ranked']"
      ]
     },
     "execution_count": 509,
     "metadata": {},
     "output_type": "execute_result"
    }
   ],
   "source": [
    "link = \"https://www.cnet.com/news/the-30-best-films-of-the-decade-ranked/\"\n",
    "tag = \"h2\"\n",
    "remove_non_chars(remove_html(parser(link, tag)))"
   ]
  },
  {
   "cell_type": "markdown",
   "metadata": {},
   "source": [
    "<h2> Looper </h2>"
   ]
  },
  {
   "cell_type": "code",
   "execution_count": 510,
   "metadata": {
    "ExecuteTime": {
     "end_time": "2019-12-24T18:40:52.961506Z",
     "start_time": "2019-12-24T18:40:52.596925Z"
    }
   },
   "outputs": [
    {
     "data": {
      "text/plain": [
       "['Inception ',\n",
       " 'Toy Story  ',\n",
       " 'The Social Network ',\n",
       " 'Skyfall ',\n",
       " 'Gravity ',\n",
       " 'Her ',\n",
       " 'Inside Llewyn Davis ',\n",
       " 'Selma ',\n",
       " 'The Grand Budapest Hotel ',\n",
       " 'Boyhood ',\n",
       " 'Inside Out ',\n",
       " 'Mad Max: Fury Road ',\n",
       " 'Midnight Special ',\n",
       " 'Moonlight ',\n",
       " 'Lady Bird ',\n",
       " 'Get Out ',\n",
       " 'The Shape of Water ',\n",
       " 'Black Panther ',\n",
       " 'A Quiet Place ',\n",
       " 'SpiderMan: Into the SpiderVerse ',\n",
       " 'BlacKkKlansman ',\n",
       " 'Us ',\n",
       " 'Avengers: Endgame ',\n",
       " 'Parasite ']"
      ]
     },
     "execution_count": 510,
     "metadata": {},
     "output_type": "execute_result"
    }
   ],
   "source": [
    "link = \"https://www.looper.com/178003/the-best-movies-of-the-last-decade/\"\n",
    "tag = \"h2\"\n",
    "remove_non_chars(remove_html(parser(link, tag)))"
   ]
  },
  {
   "cell_type": "markdown",
   "metadata": {},
   "source": [
    "<h2>Columbus Underground</h2>"
   ]
  },
  {
   "cell_type": "code",
   "execution_count": 512,
   "metadata": {
    "ExecuteTime": {
     "end_time": "2019-12-24T18:40:58.323365Z",
     "start_time": "2019-12-24T18:40:57.819428Z"
    }
   },
   "outputs": [
    {
     "data": {
      "text/plain": [
       "[' Mad Max: Fury Road ',\n",
       " ' Toy Story  ',\n",
       " '  Years a Slave ',\n",
       " ' Take Shelter ',\n",
       " ' The Tree of Life ',\n",
       " ' The Master ',\n",
       " ' Selma ',\n",
       " ' Moonlight ',\n",
       " ' The Act of Killing ',\n",
       " ' Cave of Forgotten Dreams ',\n",
       " ' Drive ',\n",
       " ' The Revenant ',\n",
       " ' Boyhood ',\n",
       " ' Roma ',\n",
       " ' Toy Story  ',\n",
       " ' The Witch ',\n",
       " ' You Were Never Really Here ',\n",
       " ' Get Out ',\n",
       " ' Parasite ',\n",
       " ' The Irishman ',\n",
       " ' Django Unchained ',\n",
       " ' Dunkirk ',\n",
       " ' Black Panther ',\n",
       " ' The Babadook ',\n",
       " ' Young Adult ']"
      ]
     },
     "execution_count": 512,
     "metadata": {},
     "output_type": "execute_result"
    }
   ],
   "source": [
    "link = \"https://www.columbusunderground.com/25-best-movies-of-the-decade-hm1\"\n",
    "tag = \"h2\"\n",
    "movies = remove_non_chars(remove_html(parser(link, tag)))\n",
    "movies[18:]"
   ]
  },
  {
   "cell_type": "markdown",
   "metadata": {},
   "source": [
    "<h2> NME </h2>"
   ]
  },
  {
   "cell_type": "code",
   "execution_count": 513,
   "metadata": {
    "ExecuteTime": {
     "end_time": "2019-12-24T18:41:00.702840Z",
     "start_time": "2019-12-24T18:41:00.222260Z"
    }
   },
   "outputs": [
    {
     "data": {
      "text/plain": [
       "['KickAss ',\n",
       " 'Rogue One: A Star Wars Story ',\n",
       " 'Insidious ',\n",
       " 'The Babadook ',\n",
       " 'Guardians of the Galaxy ',\n",
       " 'Hereditary ',\n",
       " 'Joker ',\n",
       " 'Baby Driver ',\n",
       " 'A Quiet Place ',\n",
       " 'Whiplash ',\n",
       " 'Lady Bird ',\n",
       " 'Deadpool ',\n",
       " 'The Grand Budapest Hotel ',\n",
       " 'Inception ',\n",
       " 'Django Unchained ',\n",
       " 'Moonlight ',\n",
       " 'Avengers: Endgame ',\n",
       " 'Mad Max: Fury Road ',\n",
       " 'Call Me By Your Name ',\n",
       " 'Get Out ']"
      ]
     },
     "execution_count": 513,
     "metadata": {},
     "output_type": "execute_result"
    }
   ],
   "source": [
    "link = \"https://www.nme.com/features/films-of-the-decade-nme-movies-2583834\"\n",
    "tag = \".tdb-sml-current-item-title\"\n",
    "remove_non_chars(remove_html(parser(link, tag)))"
   ]
  },
  {
   "cell_type": "markdown",
   "metadata": {},
   "source": [
    "<h2> Town and Country Mag </h2>"
   ]
  },
  {
   "cell_type": "code",
   "execution_count": 514,
   "metadata": {
    "ExecuteTime": {
     "end_time": "2019-12-24T18:41:02.926779Z",
     "start_time": "2019-12-24T18:41:02.485337Z"
    }
   },
   "outputs": [
    {
     "data": {
      "text/plain": [
       "['        The Social Network                    ',\n",
       " '        Margaret                    ',\n",
       " '        Bridesmaids                    ',\n",
       " '        The Wolf of Wall Street                    ',\n",
       " '        The Kings Speech                    ',\n",
       " '         Years a Slave                    ',\n",
       " '        The Grand Budapest Hotel                    ',\n",
       " '        Boyhood                    ',\n",
       " '        Carol                    ',\n",
       " '        Moonlight                    ',\n",
       " '        La La Land                    ',\n",
       " '        Get out                    ',\n",
       " '        Lady Bird                    ',\n",
       " '        Roma                    ',\n",
       " '        The Favourite                    ']"
      ]
     },
     "execution_count": 514,
     "metadata": {},
     "output_type": "execute_result"
    }
   ],
   "source": [
    "link = \"https://www.townandcountrymag.com/leisure/arts-and-culture/g30199550/best-movies-of-2010s/\"\n",
    "tag = \".slideshow-slide-hed\"\n",
    "remove_non_chars(remove_html(parser(link, tag)))"
   ]
  },
  {
   "cell_type": "markdown",
   "metadata": {},
   "source": [
    "<h2>Spin</h2>"
   ]
  },
  {
   "cell_type": "code",
   "execution_count": 515,
   "metadata": {
    "ExecuteTime": {
     "end_time": "2019-12-24T18:41:11.029653Z",
     "start_time": "2019-12-24T18:41:06.419028Z"
    }
   },
   "outputs": [
    {
     "data": {
      "text/plain": [
       "[['Winters Bone ',\n",
       "  'Inception ',\n",
       "  'The Social Network ',\n",
       "  'Bridesmaids ',\n",
       "  'A Separation ',\n",
       "  'The Master '],\n",
       " ['Holy Motors ',\n",
       "  'The Queen of Versailles ',\n",
       "  'Spring Breakers ',\n",
       "  'Frances Ha ',\n",
       "  'Her ',\n",
       "  'Boyhood '],\n",
       " ['John Wick',\n",
       "  'It Follows ',\n",
       "  'Mad Max: Fury Road ',\n",
       "  'Magic Mike XXL ',\n",
       "  'The Witch ',\n",
       "  'Hunt for the Wilderpeople'],\n",
       " ['Moonlight ',\n",
       "  'Popstar: Never Stop Never Stopping ',\n",
       "  'OJ: Made in America ',\n",
       "  'Toni Erdmann ',\n",
       "  'Personal Shopper ',\n",
       "  'Call Me by Your Name '],\n",
       " ['Get Out ',\n",
       "  'First Reformed ',\n",
       "  'Minding the Gap ',\n",
       "  'Annihilation ',\n",
       "  'Burning ',\n",
       "  'High Life ']]"
      ]
     },
     "execution_count": 515,
     "metadata": {},
     "output_type": "execute_result"
    }
   ],
   "source": [
    "links = [\n",
    "    \"https://www.spin.com/featured/30-best-movies-2010s\",\n",
    "    \"https://www.spin.com/featured/30-best-movies-2010s/2/\",\n",
    "    \"https://www.spin.com/featured/30-best-movies-2010s/3/\",\n",
    "    \"https://www.spin.com/featured/30-best-movies-2010s/4/\",\n",
    "    \"https://www.spin.com/featured/30-best-movies-2010s/5/\"\n",
    "]\n",
    "tag = \"h3\"\n",
    "movies = []\n",
    "for link in links:\n",
    "    movies.append(remove_non_chars(remove_html(parser(link, tag))))\n",
    "movies"
   ]
  },
  {
   "cell_type": "markdown",
   "metadata": {},
   "source": [
    "<h2> IMDB </h2>"
   ]
  },
  {
   "cell_type": "code",
   "execution_count": 516,
   "metadata": {
    "ExecuteTime": {
     "end_time": "2019-12-24T18:41:21.370635Z",
     "start_time": "2019-12-24T18:41:18.999937Z"
    }
   },
   "outputs": [
    {
     "data": {
      "text/plain": [
       "['Prisoners',\n",
       " 'The Grand Budapest Hotel',\n",
       " 'Interstellar',\n",
       " 'The Wolf of Wall Street',\n",
       " 'Mad Max: Fury Road',\n",
       " 'Your Name.',\n",
       " 'Manchester by the Sea',\n",
       " 'Inception',\n",
       " 'Toy Story 3',\n",
       " 'Paterson']"
      ]
     },
     "execution_count": 516,
     "metadata": {},
     "output_type": "execute_result"
    }
   ],
   "source": [
    "link = \"https://www.imdb.com/list/ls021078225/\"\n",
    "tag = \".lister-item-header a\"\n",
    "remove_html(parser(link, tag))[0:10]"
   ]
  },
  {
   "cell_type": "markdown",
   "metadata": {},
   "source": [
    "<h2> Hyper Allergic </h2>"
   ]
  },
  {
   "cell_type": "code",
   "execution_count": 519,
   "metadata": {
    "ExecuteTime": {
     "end_time": "2019-12-24T18:41:47.763584Z",
     "start_time": "2019-12-24T18:41:47.382119Z"
    }
   },
   "outputs": [
    {
     "data": {
      "text/plain": [
       "[' Arrival',\n",
       " ' Upstream Colour',\n",
       " ' Holy Motors',\n",
       " ' Blue Is the Warmest Colour',\n",
       " ' You Were Never Really Here',\n",
       " ' Melancholia',\n",
       " ' Monos',\n",
       " ' Uncle Boonmee Who Can Recall His Past Lives',\n",
       " ' Lady Bird',\n",
       " ' Get Out',\n",
       " ' Climax',\n",
       " ' Ida',\n",
       " ' Parasite',\n",
       " ' Madelines Madeline',\n",
       " ' Birds of Passage',\n",
       " ' The Turin Horse',\n",
       " ' Tangerine',\n",
       " ' The Act of Killing',\n",
       " ' Beanpole',\n",
       " ' The Master',\n",
       " ' The Tribe',\n",
       " ' The Duke of Burgundy',\n",
       " ' Son of Saul',\n",
       " ' Under the Skin',\n",
       " ' Loveless']"
      ]
     },
     "execution_count": 519,
     "metadata": {},
     "output_type": "execute_result"
    }
   ],
   "source": [
    "link = \"https://www.irishtimes.com/culture/film/the-25-best-films-of-the-2010s-none-of-them-won-best-picture-oscar-1.4116777\"\n",
    "tag = \"strong\"\n",
    "remove_non_chars(remove_html(parser(link, tag)))[:-1]"
   ]
  },
  {
   "cell_type": "markdown",
   "metadata": {},
   "source": [
    "<h2><u>Manually Parsed</u></h2>"
   ]
  },
  {
   "cell_type": "markdown",
   "metadata": {},
   "source": [
    "<h2> Reddit </h2>"
   ]
  },
  {
   "cell_type": "code",
   "execution_count": 520,
   "metadata": {
    "ExecuteTime": {
     "end_time": "2019-12-24T18:43:02.758883Z",
     "start_time": "2019-12-24T18:43:00.811012Z"
    }
   },
   "outputs": [
    {
     "data": {
      "text/plain": [
       "['The Tree of LifeMoonlightBlue is the Warmest Colour12 Years a SlaveIdaThe RevenantHerUnder the SkinThe Social NetworkShame',\n",
       " 'Mad Max: Fury RoadThe WitchEx MachinaSpider-Man: Into The Spider-VerseIt FollowsManchester By The SeaHerIT: Chapter 1Your NameDunkirk',\n",
       " 'The Grand Budapest HotelThe Tale of the Princess KaguyaBefore MidnightA SeparationThe ArtistThe Red TurtleArrivalHerEx Machina(Tie) The Shape of Water/Moonrise Kingdom',\n",
       " 'BirdmanThe MasterMad Max: Fury RoadInterstellarThe Social NetworkEx MachinaLa La LandNightcrawlerWhiplashThe Grand Budapest Hotel',\n",
       " 'The Turin HorseThe Tree of LifeTwin Peaks: The ReturnThe Look of SilenceMelancholiaSilenceThe MasterUnder the SkinWormwoodPaterson']"
      ]
     },
     "execution_count": 520,
     "metadata": {},
     "output_type": "execute_result"
    }
   ],
   "source": [
    "link = \"https://www.reddit.com/r/movies/comments/cksn97/best_films_of_the_decade/\"\n",
    "tag = \"div ol\"\n",
    "remove_html(parser(link, tag))"
   ]
  },
  {
   "cell_type": "markdown",
   "metadata": {},
   "source": [
    "<h2> Paste Magazine </h2>"
   ]
  },
  {
   "cell_type": "code",
   "execution_count": 521,
   "metadata": {
    "ExecuteTime": {
     "end_time": "2019-12-24T18:43:04.060652Z",
     "start_time": "2019-12-24T18:43:02.761693Z"
    }
   },
   "outputs": [
    {
     "data": {
      "text/plain": [
       "[]"
      ]
     },
     "execution_count": 521,
     "metadata": {},
     "output_type": "execute_result"
    }
   ],
   "source": [
    "link = \"https://www.pastemagazine.com/articles/2019/11/best-movies-2010s-decade.html\"\n",
    "tag = \".big\"\n",
    "parser(link, tag)"
   ]
  },
  {
   "cell_type": "markdown",
   "metadata": {},
   "source": [
    "<h2>Independent</h2>"
   ]
  },
  {
   "cell_type": "code",
   "execution_count": 522,
   "metadata": {
    "ExecuteTime": {
     "end_time": "2019-12-24T18:43:04.346121Z",
     "start_time": "2019-12-24T18:43:04.064464Z"
    }
   },
   "outputs": [
    {
     "data": {
      "text/plain": [
       "[]"
      ]
     },
     "execution_count": 522,
     "metadata": {},
     "output_type": "execute_result"
    }
   ],
   "source": [
    "link = \"https://www.independent.co.uk/arts-entertainment/films/features/best-films-decade-2010s-paddington-moonlight-carol-ranked-a9213966.html\"\n",
    "tag = \"span\"\n",
    "parser(link, tag)\n",
    "\n",
    "#manually parsed"
   ]
  },
  {
   "cell_type": "markdown",
   "metadata": {},
   "source": [
    "<h2> Indiewire </h2>"
   ]
  },
  {
   "cell_type": "code",
   "execution_count": 525,
   "metadata": {
    "ExecuteTime": {
     "end_time": "2019-12-24T18:43:13.127264Z",
     "start_time": "2019-12-24T18:43:12.720833Z"
    }
   },
   "outputs": [
    {
     "data": {
      "text/plain": [
       "[]"
      ]
     },
     "execution_count": 525,
     "metadata": {},
     "output_type": "execute_result"
    }
   ],
   "source": [
    "link = \"https://www.indiewire.com/gallery/best-movies-of-2010s-decade/\"\n",
    "tag = \".c-gallery-vertical-slide__title\"\n",
    "movies = parser(link, tag)\n",
    "movies"
   ]
  },
  {
   "cell_type": "markdown",
   "metadata": {},
   "source": [
    "<h2><u> Result </u></h2>\n",
    "\n",
    "Resulted in a database of 1357 non-unique titles scraped from 35 different sources. Over the course of this notebook I:\n",
    "\n",
    "1. Efficiently scraped 35 websites\n",
    "2. Used regex for a variety of purposes\n",
    "3. Wrote a variety of helper functions that further streamlined my work\n",
    "4. Finally, created a clean, near-perfect database of the top movies of the decade for future analysis"
   ]
  },
  {
   "cell_type": "code",
   "execution_count": 548,
   "metadata": {
    "ExecuteTime": {
     "end_time": "2019-12-24T19:05:37.532814Z",
     "start_time": "2019-12-24T19:05:37.518240Z"
    }
   },
   "outputs": [],
   "source": [
    "import pandas as pd\n",
    "movieDB = pd.read_csv(\"MovieDB.csv\")\n",
    "sources = pd.read_csv(\"Sources.csv\")\n",
    "#movieDB = movieDB.dropna(how='all', axis='columns')\n",
    "#sources = sources.dropna(how='all', axis='columns')"
   ]
  },
  {
   "cell_type": "code",
   "execution_count": 549,
   "metadata": {
    "ExecuteTime": {
     "end_time": "2019-12-24T19:05:37.958267Z",
     "start_time": "2019-12-24T19:05:37.928803Z"
    }
   },
   "outputs": [
    {
     "data": {
      "text/html": [
       "<div>\n",
       "<style>\n",
       "    .dataframe thead tr:only-child th {\n",
       "        text-align: right;\n",
       "    }\n",
       "\n",
       "    .dataframe thead th {\n",
       "        text-align: left;\n",
       "    }\n",
       "\n",
       "    .dataframe tbody tr th {\n",
       "        vertical-align: top;\n",
       "    }\n",
       "</style>\n",
       "<table border=\"1\" class=\"dataframe\">\n",
       "  <thead>\n",
       "    <tr style=\"text-align: right;\">\n",
       "      <th></th>\n",
       "      <th>Title</th>\n",
       "      <th>Website</th>\n",
       "      <th>Rank</th>\n",
       "    </tr>\n",
       "  </thead>\n",
       "  <tbody>\n",
       "    <tr>\n",
       "      <th>0</th>\n",
       "      <td>Melancholia</td>\n",
       "      <td>Vulture</td>\n",
       "      <td>1</td>\n",
       "    </tr>\n",
       "    <tr>\n",
       "      <th>1</th>\n",
       "      <td>Mad Max: Fury Road</td>\n",
       "      <td>Vulture</td>\n",
       "      <td>2</td>\n",
       "    </tr>\n",
       "    <tr>\n",
       "      <th>2</th>\n",
       "      <td>The Tree of Life</td>\n",
       "      <td>Vulture</td>\n",
       "      <td>3</td>\n",
       "    </tr>\n",
       "    <tr>\n",
       "      <th>3</th>\n",
       "      <td>The Rider</td>\n",
       "      <td>Vulture</td>\n",
       "      <td>4</td>\n",
       "    </tr>\n",
       "    <tr>\n",
       "      <th>4</th>\n",
       "      <td>A Separation</td>\n",
       "      <td>Vulture</td>\n",
       "      <td>5</td>\n",
       "    </tr>\n",
       "    <tr>\n",
       "      <th>5</th>\n",
       "      <td>Moonlight</td>\n",
       "      <td>Vulture</td>\n",
       "      <td>6</td>\n",
       "    </tr>\n",
       "    <tr>\n",
       "      <th>6</th>\n",
       "      <td>The Fits</td>\n",
       "      <td>Vulture</td>\n",
       "      <td>7</td>\n",
       "    </tr>\n",
       "    <tr>\n",
       "      <th>7</th>\n",
       "      <td>Margaret</td>\n",
       "      <td>Vulture</td>\n",
       "      <td>8</td>\n",
       "    </tr>\n",
       "    <tr>\n",
       "      <th>8</th>\n",
       "      <td>Spider-Man: Into the Spider-Verse</td>\n",
       "      <td>Vulture</td>\n",
       "      <td>9</td>\n",
       "    </tr>\n",
       "    <tr>\n",
       "      <th>9</th>\n",
       "      <td>The Florida Project</td>\n",
       "      <td>Vulture</td>\n",
       "      <td>10</td>\n",
       "    </tr>\n",
       "    <tr>\n",
       "      <th>10</th>\n",
       "      <td>Actress</td>\n",
       "      <td>Vulture</td>\n",
       "      <td>11</td>\n",
       "    </tr>\n",
       "    <tr>\n",
       "      <th>11</th>\n",
       "      <td>It’s Such a Beautiful Day</td>\n",
       "      <td>Vulture</td>\n",
       "      <td>12</td>\n",
       "    </tr>\n",
       "    <tr>\n",
       "      <th>12</th>\n",
       "      <td>Hell or High Water</td>\n",
       "      <td>Vulture</td>\n",
       "      <td>13</td>\n",
       "    </tr>\n",
       "    <tr>\n",
       "      <th>13</th>\n",
       "      <td>Parasite</td>\n",
       "      <td>Vulture</td>\n",
       "      <td>14</td>\n",
       "    </tr>\n",
       "    <tr>\n",
       "      <th>14</th>\n",
       "      <td>Under the Skin</td>\n",
       "      <td>Vulture</td>\n",
       "      <td>15</td>\n",
       "    </tr>\n",
       "    <tr>\n",
       "      <th>15</th>\n",
       "      <td>The Handmaiden</td>\n",
       "      <td>Vulture</td>\n",
       "      <td>16</td>\n",
       "    </tr>\n",
       "    <tr>\n",
       "      <th>16</th>\n",
       "      <td>Cameraperson</td>\n",
       "      <td>Vulture</td>\n",
       "      <td>17</td>\n",
       "    </tr>\n",
       "    <tr>\n",
       "      <th>17</th>\n",
       "      <td>Once Upon a Time in Hollywood</td>\n",
       "      <td>Vulture</td>\n",
       "      <td>18</td>\n",
       "    </tr>\n",
       "    <tr>\n",
       "      <th>18</th>\n",
       "      <td>Clouds of Sils Maria</td>\n",
       "      <td>Vulture</td>\n",
       "      <td>19</td>\n",
       "    </tr>\n",
       "    <tr>\n",
       "      <th>19</th>\n",
       "      <td>First Reformed</td>\n",
       "      <td>Vulture</td>\n",
       "      <td>20</td>\n",
       "    </tr>\n",
       "    <tr>\n",
       "      <th>20</th>\n",
       "      <td>Winter’s Bone</td>\n",
       "      <td>Vulture</td>\n",
       "      <td>21</td>\n",
       "    </tr>\n",
       "    <tr>\n",
       "      <th>21</th>\n",
       "      <td>Dunkirk</td>\n",
       "      <td>Vulture</td>\n",
       "      <td>22</td>\n",
       "    </tr>\n",
       "    <tr>\n",
       "      <th>22</th>\n",
       "      <td>You Were Never Really Here</td>\n",
       "      <td>Vulture</td>\n",
       "      <td>23</td>\n",
       "    </tr>\n",
       "    <tr>\n",
       "      <th>23</th>\n",
       "      <td>The Villainess</td>\n",
       "      <td>Vulture</td>\n",
       "      <td>24</td>\n",
       "    </tr>\n",
       "    <tr>\n",
       "      <th>24</th>\n",
       "      <td>Holy Motors</td>\n",
       "      <td>Vulture</td>\n",
       "      <td>25</td>\n",
       "    </tr>\n",
       "    <tr>\n",
       "      <th>25</th>\n",
       "      <td>The Social Network</td>\n",
       "      <td>Vulture</td>\n",
       "      <td>26</td>\n",
       "    </tr>\n",
       "    <tr>\n",
       "      <th>26</th>\n",
       "      <td>Timbuktu</td>\n",
       "      <td>Vulture</td>\n",
       "      <td>27</td>\n",
       "    </tr>\n",
       "    <tr>\n",
       "      <th>27</th>\n",
       "      <td>This Is Not a Film</td>\n",
       "      <td>Vulture</td>\n",
       "      <td>28</td>\n",
       "    </tr>\n",
       "    <tr>\n",
       "      <th>28</th>\n",
       "      <td>The Master</td>\n",
       "      <td>Vulture</td>\n",
       "      <td>29</td>\n",
       "    </tr>\n",
       "    <tr>\n",
       "      <th>29</th>\n",
       "      <td>Lincoln</td>\n",
       "      <td>Vulture</td>\n",
       "      <td>30</td>\n",
       "    </tr>\n",
       "    <tr>\n",
       "      <th>...</th>\n",
       "      <td>...</td>\n",
       "      <td>...</td>\n",
       "      <td>...</td>\n",
       "    </tr>\n",
       "    <tr>\n",
       "      <th>1327</th>\n",
       "      <td>Only Lovers Left Alive</td>\n",
       "      <td>The Playlist</td>\n",
       "      <td>30</td>\n",
       "    </tr>\n",
       "    <tr>\n",
       "      <th>1328</th>\n",
       "      <td>Jackie</td>\n",
       "      <td>The Playlist</td>\n",
       "      <td>29</td>\n",
       "    </tr>\n",
       "    <tr>\n",
       "      <th>1329</th>\n",
       "      <td>Frances Ha</td>\n",
       "      <td>The Playlist</td>\n",
       "      <td>28</td>\n",
       "    </tr>\n",
       "    <tr>\n",
       "      <th>1330</th>\n",
       "      <td>The Lobster</td>\n",
       "      <td>The Playlist</td>\n",
       "      <td>27</td>\n",
       "    </tr>\n",
       "    <tr>\n",
       "      <th>1331</th>\n",
       "      <td>Manchester by the Sea</td>\n",
       "      <td>The Playlist</td>\n",
       "      <td>26</td>\n",
       "    </tr>\n",
       "    <tr>\n",
       "      <th>1332</th>\n",
       "      <td>Lil Quinquin</td>\n",
       "      <td>The Playlist</td>\n",
       "      <td>25</td>\n",
       "    </tr>\n",
       "    <tr>\n",
       "      <th>1333</th>\n",
       "      <td>Pain and Glory</td>\n",
       "      <td>The Playlist</td>\n",
       "      <td>24</td>\n",
       "    </tr>\n",
       "    <tr>\n",
       "      <th>1334</th>\n",
       "      <td>The Comedy</td>\n",
       "      <td>The Playlist</td>\n",
       "      <td>23</td>\n",
       "    </tr>\n",
       "    <tr>\n",
       "      <th>1335</th>\n",
       "      <td>Stories We Tell</td>\n",
       "      <td>The Playlist</td>\n",
       "      <td>22</td>\n",
       "    </tr>\n",
       "    <tr>\n",
       "      <th>1336</th>\n",
       "      <td>Arrival</td>\n",
       "      <td>The Playlist</td>\n",
       "      <td>21</td>\n",
       "    </tr>\n",
       "    <tr>\n",
       "      <th>1337</th>\n",
       "      <td>Birds of Passage</td>\n",
       "      <td>The Playlist</td>\n",
       "      <td>20</td>\n",
       "    </tr>\n",
       "    <tr>\n",
       "      <th>1338</th>\n",
       "      <td>45 Years</td>\n",
       "      <td>The Playlist</td>\n",
       "      <td>19</td>\n",
       "    </tr>\n",
       "    <tr>\n",
       "      <th>1339</th>\n",
       "      <td>A Prophet</td>\n",
       "      <td>The Playlist</td>\n",
       "      <td>18</td>\n",
       "    </tr>\n",
       "    <tr>\n",
       "      <th>1340</th>\n",
       "      <td>First Reformed</td>\n",
       "      <td>The Playlist</td>\n",
       "      <td>17</td>\n",
       "    </tr>\n",
       "    <tr>\n",
       "      <th>1341</th>\n",
       "      <td>Phantom Thread</td>\n",
       "      <td>The Playlist</td>\n",
       "      <td>16</td>\n",
       "    </tr>\n",
       "    <tr>\n",
       "      <th>1342</th>\n",
       "      <td>Mad Max: Fury Road</td>\n",
       "      <td>The Playlist</td>\n",
       "      <td>15</td>\n",
       "    </tr>\n",
       "    <tr>\n",
       "      <th>1343</th>\n",
       "      <td>20th Century Women</td>\n",
       "      <td>The Playlist</td>\n",
       "      <td>14</td>\n",
       "    </tr>\n",
       "    <tr>\n",
       "      <th>1344</th>\n",
       "      <td>Carol</td>\n",
       "      <td>The Playlist</td>\n",
       "      <td>13</td>\n",
       "    </tr>\n",
       "    <tr>\n",
       "      <th>1345</th>\n",
       "      <td>You Were Never Really Here</td>\n",
       "      <td>The Playlist</td>\n",
       "      <td>12</td>\n",
       "    </tr>\n",
       "    <tr>\n",
       "      <th>1346</th>\n",
       "      <td>Get Out</td>\n",
       "      <td>The Playlist</td>\n",
       "      <td>11</td>\n",
       "    </tr>\n",
       "    <tr>\n",
       "      <th>1347</th>\n",
       "      <td>Toni Erdmann</td>\n",
       "      <td>The Playlist</td>\n",
       "      <td>10</td>\n",
       "    </tr>\n",
       "    <tr>\n",
       "      <th>1348</th>\n",
       "      <td>Under the Skin</td>\n",
       "      <td>The Playlist</td>\n",
       "      <td>9</td>\n",
       "    </tr>\n",
       "    <tr>\n",
       "      <th>1349</th>\n",
       "      <td>Dogtooth</td>\n",
       "      <td>The Playlist</td>\n",
       "      <td>8</td>\n",
       "    </tr>\n",
       "    <tr>\n",
       "      <th>1350</th>\n",
       "      <td>Inside Llewyn Davis</td>\n",
       "      <td>The Playlist</td>\n",
       "      <td>7</td>\n",
       "    </tr>\n",
       "    <tr>\n",
       "      <th>1351</th>\n",
       "      <td>Moonlight</td>\n",
       "      <td>The Playlist</td>\n",
       "      <td>6</td>\n",
       "    </tr>\n",
       "    <tr>\n",
       "      <th>1352</th>\n",
       "      <td>Tree Of Life</td>\n",
       "      <td>The Playlist</td>\n",
       "      <td>5</td>\n",
       "    </tr>\n",
       "    <tr>\n",
       "      <th>1353</th>\n",
       "      <td>The Master</td>\n",
       "      <td>The Playlist</td>\n",
       "      <td>4</td>\n",
       "    </tr>\n",
       "    <tr>\n",
       "      <th>1354</th>\n",
       "      <td>The Act of Killing</td>\n",
       "      <td>The Playlist</td>\n",
       "      <td>3</td>\n",
       "    </tr>\n",
       "    <tr>\n",
       "      <th>1355</th>\n",
       "      <td>A Separation</td>\n",
       "      <td>The Playlist</td>\n",
       "      <td>2</td>\n",
       "    </tr>\n",
       "    <tr>\n",
       "      <th>1356</th>\n",
       "      <td>Burning</td>\n",
       "      <td>The Playlist</td>\n",
       "      <td>1</td>\n",
       "    </tr>\n",
       "  </tbody>\n",
       "</table>\n",
       "<p>1357 rows × 3 columns</p>\n",
       "</div>"
      ],
      "text/plain": [
       "                                  Title       Website  Rank\n",
       "0                           Melancholia       Vulture     1\n",
       "1                    Mad Max: Fury Road       Vulture     2\n",
       "2                      The Tree of Life       Vulture     3\n",
       "3                             The Rider       Vulture     4\n",
       "4                          A Separation       Vulture     5\n",
       "5                             Moonlight       Vulture     6\n",
       "6                              The Fits       Vulture     7\n",
       "7                              Margaret       Vulture     8\n",
       "8     Spider-Man: Into the Spider-Verse       Vulture     9\n",
       "9                   The Florida Project       Vulture    10\n",
       "10                              Actress       Vulture    11\n",
       "11            It’s Such a Beautiful Day       Vulture    12\n",
       "12                   Hell or High Water       Vulture    13\n",
       "13                             Parasite       Vulture    14\n",
       "14                       Under the Skin       Vulture    15\n",
       "15                       The Handmaiden       Vulture    16\n",
       "16                         Cameraperson       Vulture    17\n",
       "17        Once Upon a Time in Hollywood       Vulture    18\n",
       "18                 Clouds of Sils Maria       Vulture    19\n",
       "19                       First Reformed       Vulture    20\n",
       "20                        Winter’s Bone       Vulture    21\n",
       "21                              Dunkirk       Vulture    22\n",
       "22           You Were Never Really Here       Vulture    23\n",
       "23                       The Villainess       Vulture    24\n",
       "24                          Holy Motors       Vulture    25\n",
       "25                   The Social Network       Vulture    26\n",
       "26                             Timbuktu       Vulture    27\n",
       "27                   This Is Not a Film       Vulture    28\n",
       "28                           The Master       Vulture    29\n",
       "29                              Lincoln       Vulture    30\n",
       "...                                 ...           ...   ...\n",
       "1327             Only Lovers Left Alive  The Playlist    30\n",
       "1328                             Jackie  The Playlist    29\n",
       "1329                         Frances Ha  The Playlist    28\n",
       "1330                        The Lobster  The Playlist    27\n",
       "1331              Manchester by the Sea  The Playlist    26\n",
       "1332                       Lil Quinquin  The Playlist    25\n",
       "1333                     Pain and Glory  The Playlist    24\n",
       "1334                         The Comedy  The Playlist    23\n",
       "1335                    Stories We Tell  The Playlist    22\n",
       "1336                            Arrival  The Playlist    21\n",
       "1337                   Birds of Passage  The Playlist    20\n",
       "1338                           45 Years  The Playlist    19\n",
       "1339                          A Prophet  The Playlist    18\n",
       "1340                     First Reformed  The Playlist    17\n",
       "1341                     Phantom Thread  The Playlist    16\n",
       "1342                 Mad Max: Fury Road  The Playlist    15\n",
       "1343                 20th Century Women  The Playlist    14\n",
       "1344                              Carol  The Playlist    13\n",
       "1345         You Were Never Really Here  The Playlist    12\n",
       "1346                            Get Out  The Playlist    11\n",
       "1347                       Toni Erdmann  The Playlist    10\n",
       "1348                     Under the Skin  The Playlist     9\n",
       "1349                           Dogtooth  The Playlist     8\n",
       "1350                Inside Llewyn Davis  The Playlist     7\n",
       "1351                          Moonlight  The Playlist     6\n",
       "1352                       Tree Of Life  The Playlist     5\n",
       "1353                         The Master  The Playlist     4\n",
       "1354                 The Act of Killing  The Playlist     3\n",
       "1355                       A Separation  The Playlist     2\n",
       "1356                            Burning  The Playlist     1\n",
       "\n",
       "[1357 rows x 3 columns]"
      ]
     },
     "execution_count": 549,
     "metadata": {},
     "output_type": "execute_result"
    }
   ],
   "source": [
    "movieDB"
   ]
  },
  {
   "cell_type": "code",
   "execution_count": 550,
   "metadata": {
    "ExecuteTime": {
     "end_time": "2019-12-24T19:05:45.120751Z",
     "start_time": "2019-12-24T19:05:45.100692Z"
    }
   },
   "outputs": [
    {
     "data": {
      "text/html": [
       "<div>\n",
       "<style>\n",
       "    .dataframe thead tr:only-child th {\n",
       "        text-align: right;\n",
       "    }\n",
       "\n",
       "    .dataframe thead th {\n",
       "        text-align: left;\n",
       "    }\n",
       "\n",
       "    .dataframe tbody tr th {\n",
       "        vertical-align: top;\n",
       "    }\n",
       "</style>\n",
       "<table border=\"1\" class=\"dataframe\">\n",
       "  <thead>\n",
       "    <tr style=\"text-align: right;\">\n",
       "      <th></th>\n",
       "      <th>Website</th>\n",
       "      <th>URL</th>\n",
       "    </tr>\n",
       "  </thead>\n",
       "  <tbody>\n",
       "    <tr>\n",
       "      <th>0</th>\n",
       "      <td>Vulture</td>\n",
       "      <td>https://www vulture com/2019/12/every-movie-of...</td>\n",
       "    </tr>\n",
       "    <tr>\n",
       "      <th>1</th>\n",
       "      <td>Insider</td>\n",
       "      <td>https://www insider com/best-films-of-the-deca...</td>\n",
       "    </tr>\n",
       "    <tr>\n",
       "      <th>2</th>\n",
       "      <td>No Film School</td>\n",
       "      <td>https://nofilmschool com/best-movies-of-the-de...</td>\n",
       "    </tr>\n",
       "    <tr>\n",
       "      <th>3</th>\n",
       "      <td>GamesRadar</td>\n",
       "      <td>https://www gamesradar com/decade-best-movies-...</td>\n",
       "    </tr>\n",
       "    <tr>\n",
       "      <th>4</th>\n",
       "      <td>AV Club</td>\n",
       "      <td>https://film.avclub.com/the-100-best-movies-of...</td>\n",
       "    </tr>\n",
       "    <tr>\n",
       "      <th>5</th>\n",
       "      <td>Esquire</td>\n",
       "      <td>https://www.esquire.com/entertainment/movies/g...</td>\n",
       "    </tr>\n",
       "    <tr>\n",
       "      <th>6</th>\n",
       "      <td>New Yorker</td>\n",
       "      <td>https://www.newyorker.com/culture/decade-in-re...</td>\n",
       "    </tr>\n",
       "    <tr>\n",
       "      <th>7</th>\n",
       "      <td>The Stacker</td>\n",
       "      <td>https://thestacker.com/stories/3678/100-best-m...</td>\n",
       "    </tr>\n",
       "    <tr>\n",
       "      <th>8</th>\n",
       "      <td>Vanity Fair - Richard Lawson</td>\n",
       "      <td>https://www.vanityfair.com/hollywood/2019/11/b...</td>\n",
       "    </tr>\n",
       "    <tr>\n",
       "      <th>9</th>\n",
       "      <td>Uproxx</td>\n",
       "      <td>https://uproxx.com/movies/uproxx-best-movies-o...</td>\n",
       "    </tr>\n",
       "    <tr>\n",
       "      <th>10</th>\n",
       "      <td>The Playlist</td>\n",
       "      <td>https://theplaylist.net/best-100-films-decade-...</td>\n",
       "    </tr>\n",
       "    <tr>\n",
       "      <th>11</th>\n",
       "      <td>Rotten Tomatoes</td>\n",
       "      <td>https://editorial.rottentomatoes.com/guide/the...</td>\n",
       "    </tr>\n",
       "    <tr>\n",
       "      <th>12</th>\n",
       "      <td>GQ</td>\n",
       "      <td>https://www.gq.com/story/the-best-movies-of-th...</td>\n",
       "    </tr>\n",
       "    <tr>\n",
       "      <th>13</th>\n",
       "      <td>SlashFilm</td>\n",
       "      <td>https://www.slashfilm.com/jacob-halls-top-10-m...</td>\n",
       "    </tr>\n",
       "    <tr>\n",
       "      <th>14</th>\n",
       "      <td>Hollywood Reporter</td>\n",
       "      <td>https://www.hollywoodreporter.com/lists/10-bes...</td>\n",
       "    </tr>\n",
       "    <tr>\n",
       "      <th>15</th>\n",
       "      <td>Redbook</td>\n",
       "      <td>https://www.redbookmag.com/life/g30084079/best...</td>\n",
       "    </tr>\n",
       "    <tr>\n",
       "      <th>16</th>\n",
       "      <td>Vanity Fair - Austin Collin</td>\n",
       "      <td>https://www.vanityfair.com/hollywood/2019/11/b...</td>\n",
       "    </tr>\n",
       "    <tr>\n",
       "      <th>17</th>\n",
       "      <td>IndieWire</td>\n",
       "      <td>https://www.indiewire.com/gallery/best-movies-...</td>\n",
       "    </tr>\n",
       "    <tr>\n",
       "      <th>18</th>\n",
       "      <td>Time</td>\n",
       "      <td>https://time.com/5725149/best-movies-2010s-dec...</td>\n",
       "    </tr>\n",
       "    <tr>\n",
       "      <th>19</th>\n",
       "      <td>Entertainment.ie</td>\n",
       "      <td>https://entertainment.ie/cinema/movie-news/20-...</td>\n",
       "    </tr>\n",
       "    <tr>\n",
       "      <th>20</th>\n",
       "      <td>Independent</td>\n",
       "      <td>https://www.independent.co.uk/arts-entertainme...</td>\n",
       "    </tr>\n",
       "    <tr>\n",
       "      <th>21</th>\n",
       "      <td>CNET</td>\n",
       "      <td>https://www.cnet.com/news/the-30-best-films-of...</td>\n",
       "    </tr>\n",
       "    <tr>\n",
       "      <th>22</th>\n",
       "      <td>Looper</td>\n",
       "      <td>https://www.looper.com/178003/the-best-movies-...</td>\n",
       "    </tr>\n",
       "    <tr>\n",
       "      <th>23</th>\n",
       "      <td>The Ringer</td>\n",
       "      <td>https://www.theringer.com/2019/11/26/20982951/...</td>\n",
       "    </tr>\n",
       "    <tr>\n",
       "      <th>24</th>\n",
       "      <td>Columbus Underground</td>\n",
       "      <td>https://www.columbusunderground.com/25-best-mo...</td>\n",
       "    </tr>\n",
       "    <tr>\n",
       "      <th>25</th>\n",
       "      <td>NME</td>\n",
       "      <td>https://www.nme.com/features/films-of-the-deca...</td>\n",
       "    </tr>\n",
       "    <tr>\n",
       "      <th>26</th>\n",
       "      <td>AP</td>\n",
       "      <td>https://apnews.com/bd16a0d40d25a15d357bf50587e...</td>\n",
       "    </tr>\n",
       "    <tr>\n",
       "      <th>27</th>\n",
       "      <td>Town and Country Mag</td>\n",
       "      <td>https://www.townandcountrymag.com/leisure/arts...</td>\n",
       "    </tr>\n",
       "    <tr>\n",
       "      <th>28</th>\n",
       "      <td>National Post</td>\n",
       "      <td>https://nationalpost.com/entertainment/movies/...</td>\n",
       "    </tr>\n",
       "    <tr>\n",
       "      <th>29</th>\n",
       "      <td>Now Toronto</td>\n",
       "      <td>https://nowtoronto.com/movies/features/best-mo...</td>\n",
       "    </tr>\n",
       "    <tr>\n",
       "      <th>30</th>\n",
       "      <td>Spin</td>\n",
       "      <td>https://www.spin.com/featured/30-best-movies-2...</td>\n",
       "    </tr>\n",
       "    <tr>\n",
       "      <th>31</th>\n",
       "      <td>Reddit</td>\n",
       "      <td>User generated</td>\n",
       "    </tr>\n",
       "    <tr>\n",
       "      <th>32</th>\n",
       "      <td>IMDB</td>\n",
       "      <td>User generated</td>\n",
       "    </tr>\n",
       "    <tr>\n",
       "      <th>33</th>\n",
       "      <td>Hyper Allergic</td>\n",
       "      <td>https://hyperallergic.com/533427/best-films-of...</td>\n",
       "    </tr>\n",
       "    <tr>\n",
       "      <th>34</th>\n",
       "      <td>Irish Times</td>\n",
       "      <td>https://www.irishtimes.com/culture/film/the-25...</td>\n",
       "    </tr>\n",
       "  </tbody>\n",
       "</table>\n",
       "</div>"
      ],
      "text/plain": [
       "                         Website  \\\n",
       "0                        Vulture   \n",
       "1                        Insider   \n",
       "2                 No Film School   \n",
       "3                     GamesRadar   \n",
       "4                       AV Club    \n",
       "5                        Esquire   \n",
       "6                     New Yorker   \n",
       "7                    The Stacker   \n",
       "8   Vanity Fair - Richard Lawson   \n",
       "9                         Uproxx   \n",
       "10                  The Playlist   \n",
       "11               Rotten Tomatoes   \n",
       "12                            GQ   \n",
       "13                     SlashFilm   \n",
       "14            Hollywood Reporter   \n",
       "15                       Redbook   \n",
       "16   Vanity Fair - Austin Collin   \n",
       "17                     IndieWire   \n",
       "18                          Time   \n",
       "19              Entertainment.ie   \n",
       "20                   Independent   \n",
       "21                          CNET   \n",
       "22                        Looper   \n",
       "23                    The Ringer   \n",
       "24          Columbus Underground   \n",
       "25                           NME   \n",
       "26                            AP   \n",
       "27          Town and Country Mag   \n",
       "28                 National Post   \n",
       "29                   Now Toronto   \n",
       "30                          Spin   \n",
       "31                        Reddit   \n",
       "32                          IMDB   \n",
       "33                Hyper Allergic   \n",
       "34                   Irish Times   \n",
       "\n",
       "                                                  URL  \n",
       "0   https://www vulture com/2019/12/every-movie-of...  \n",
       "1   https://www insider com/best-films-of-the-deca...  \n",
       "2   https://nofilmschool com/best-movies-of-the-de...  \n",
       "3   https://www gamesradar com/decade-best-movies-...  \n",
       "4   https://film.avclub.com/the-100-best-movies-of...  \n",
       "5   https://www.esquire.com/entertainment/movies/g...  \n",
       "6   https://www.newyorker.com/culture/decade-in-re...  \n",
       "7   https://thestacker.com/stories/3678/100-best-m...  \n",
       "8   https://www.vanityfair.com/hollywood/2019/11/b...  \n",
       "9   https://uproxx.com/movies/uproxx-best-movies-o...  \n",
       "10  https://theplaylist.net/best-100-films-decade-...  \n",
       "11  https://editorial.rottentomatoes.com/guide/the...  \n",
       "12  https://www.gq.com/story/the-best-movies-of-th...  \n",
       "13  https://www.slashfilm.com/jacob-halls-top-10-m...  \n",
       "14  https://www.hollywoodreporter.com/lists/10-bes...  \n",
       "15  https://www.redbookmag.com/life/g30084079/best...  \n",
       "16  https://www.vanityfair.com/hollywood/2019/11/b...  \n",
       "17  https://www.indiewire.com/gallery/best-movies-...  \n",
       "18  https://time.com/5725149/best-movies-2010s-dec...  \n",
       "19  https://entertainment.ie/cinema/movie-news/20-...  \n",
       "20  https://www.independent.co.uk/arts-entertainme...  \n",
       "21  https://www.cnet.com/news/the-30-best-films-of...  \n",
       "22  https://www.looper.com/178003/the-best-movies-...  \n",
       "23  https://www.theringer.com/2019/11/26/20982951/...  \n",
       "24  https://www.columbusunderground.com/25-best-mo...  \n",
       "25  https://www.nme.com/features/films-of-the-deca...  \n",
       "26  https://apnews.com/bd16a0d40d25a15d357bf50587e...  \n",
       "27  https://www.townandcountrymag.com/leisure/arts...  \n",
       "28  https://nationalpost.com/entertainment/movies/...  \n",
       "29  https://nowtoronto.com/movies/features/best-mo...  \n",
       "30  https://www.spin.com/featured/30-best-movies-2...  \n",
       "31                                     User generated  \n",
       "32                                     User generated  \n",
       "33  https://hyperallergic.com/533427/best-films-of...  \n",
       "34  https://www.irishtimes.com/culture/film/the-25...  "
      ]
     },
     "execution_count": 550,
     "metadata": {},
     "output_type": "execute_result"
    }
   ],
   "source": [
    "sources"
   ]
  },
  {
   "cell_type": "code",
   "execution_count": null,
   "metadata": {
    "collapsed": true
   },
   "outputs": [],
   "source": []
  }
 ],
 "metadata": {
  "kernelspec": {
   "display_name": "Python 3",
   "language": "python",
   "name": "python3"
  },
  "language_info": {
   "codemirror_mode": {
    "name": "ipython",
    "version": 3
   },
   "file_extension": ".py",
   "mimetype": "text/x-python",
   "name": "python",
   "nbconvert_exporter": "python",
   "pygments_lexer": "ipython3",
   "version": "3.6.2"
  }
 },
 "nbformat": 4,
 "nbformat_minor": 2
}
